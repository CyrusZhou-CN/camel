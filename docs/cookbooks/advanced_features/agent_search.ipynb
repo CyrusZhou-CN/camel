{
  "nbformat": 4,
  "nbformat_minor": 0,
  "metadata": {
    "colab": {
      "provenance": []
    },
    "kernelspec": {
      "name": "python3",
      "display_name": "Python 3"
    },
    "language_info": {
      "name": "python"
    }
  },
  "cells": [
    {
      "cell_type": "markdown",
      "source": [
        "# 🐫 CAMEL Agentic Search Cookbook"
      ],
      "metadata": {
        "id": "ymsq1Lw0VEqT"
      }
    },
    {
      "cell_type": "markdown",
      "source": [
        "You can also check this cookbook in colab [here](https://colab.research.google.com/drive/1-qZEzCvKhuuLA8zkCci0OeL0utgKyNOs?usp=sharing)"
      ],
      "metadata": {
        "id": "7V3aV16AmY0K"
      }
    },
    {
      "cell_type": "markdown",
      "source": [
        "<div class=\"align-center\">\n",
        "  <a href=\"https://www.camel-ai.org/\"><img src=\"https://i.postimg.cc/KzQ5rfBC/button.png\"width=\"150\"></a>\n",
        "  <a href=\"https://discord.camel-ai.org\"><img src=\"https://i.postimg.cc/L4wPdG9N/join-2.png\"  width=\"150\"></a></a>\n",
        "  \n",
        "⭐ <i>Star us on [*Github*](https://github.com/camel-ai/camel), join our [*Discord*](https://discord.camel-ai.org) or follow our [*X*](https://x.com/camelaiorg)\n",
        "</div>"
      ],
      "metadata": {
        "id": "UvHRdXwflAz-"
      }
    },
    {
      "cell_type": "markdown",
      "source": [
        "This notebook demonstrates how to set up and leverage CAMEL's agent to search the answer for an input question.\n",
        "\n",
        "In this notebook, you'll explore:\n",
        "\n",
        "*   **CAMEL**: A powerful multi-agent framework that enables Retrieval-Augmented Generation and multi-agent role-playing scenarios, allowing for sophisticated AI-driven tasks.\n",
        "*   **`ChatAgent`**: The ChatAgent class.\n",
        "*   **`SearchToolkit`**: A class representing a toolkit for web search.\n",
        "\n",
        "\n",
        "This setup not only demonstrates a practical application but also serves as a flexible framework that can be adapted for various scenarios requiring different toolkits."
      ],
      "metadata": {
        "id": "G5gE04UuPUWj"
      }
    },
    {
      "cell_type": "markdown",
      "source": [
        "## 📦 Installation"
      ],
      "metadata": {
        "id": "0J0_iW-YVcq2"
      }
    },
    {
      "cell_type": "markdown",
      "source": [
        "First, install the CAMEL package with all its dependencies:"
      ],
      "metadata": {
        "id": "7p-JjpyNVcCT"
      }
    },
    {
      "cell_type": "code",
      "execution_count": null,
      "metadata": {
        "collapsed": true,
        "id": "0GXs2pruU9Vl"
      },
      "outputs": [],
      "source": [
        "!pip install -qqq \"camel-ai[all]==0.2.23\""
      ]
    },
    {
      "cell_type": "markdown",
      "source": [
        "## 🔑 Setting Up API Keys"
      ],
      "metadata": {
        "id": "lfNvFbhD6o8B"
      }
    },
    {
      "cell_type": "markdown",
      "source": [
        "You'll need to set up your API keys for OpenAI, Google Search. This ensures that the tools can interact with external services securely."
      ],
      "metadata": {
        "id": "jqV12oQfQTyl"
      }
    },
    {
      "cell_type": "code",
      "source": [
        "import os\n",
        "from getpass import getpass\n",
        "# Prompt for the API key securely\n",
        "openai_api_key = getpass('Enter your API key: ')\n",
        "os.environ[\"OPENAI_API_KEY\"] = openai_api_key"
      ],
      "metadata": {
        "colab": {
          "base_uri": "https://localhost:8080/"
        },
        "id": "GWyoKFO0bxMT",
        "outputId": "55ddc0a7-4bd1-4510-ab86-5400771488c0"
      },
      "execution_count": null,
      "outputs": [
        {
          "name": "stdout",
          "output_type": "stream",
          "text": [
            "Enter your API key: ··········\n"
          ]
        }
      ]
    },
    {
      "cell_type": "code",
      "source": [
        "google_api_key = getpass('Enter your API key: ')\n",
        "os.environ[\"GOOGLE_API_KEY\"] = google_api_key"
      ],
      "metadata": {
        "colab": {
          "base_uri": "https://localhost:8080/"
        },
        "id": "V2CmH4GS2EnE",
        "outputId": "90ee38ab-7ba5-47ce-be16-0fa351c8ff8f"
      },
      "execution_count": null,
      "outputs": [
        {
          "name": "stdout",
          "output_type": "stream",
          "text": [
            "Enter your API key: ··········\n"
          ]
        }
      ]
    },
    {
      "cell_type": "code",
      "source": [
        "search_engine_id = getpass('Enter your API key: ')\n",
        "os.environ[\"SEARCH_ENGINE_ID\"] = search_engine_id"
      ],
      "metadata": {
        "colab": {
          "base_uri": "https://localhost:8080/"
        },
        "id": "rHGGwTYy2KoM",
        "outputId": "830f7b19-c66b-42df-e8fa-aabd5f90537f"
      },
      "execution_count": null,
      "outputs": [
        {
          "name": "stdout",
          "output_type": "stream",
          "text": [
            "Enter your API key: ··········\n"
          ]
        }
      ]
    },
    {
      "cell_type": "markdown",
      "source": [
        "You can go to [here](https://app.agentops.ai/signin) to get **free** API Key from AgentOps\n"
      ],
      "metadata": {
        "id": "Sc3MAQwiH9Pd"
      }
    },
    {
      "cell_type": "code",
      "source": [
        "import os\n",
        "from getpass import getpass\n",
        "\n",
        "# Prompt for the AgentOps API key securely\n",
        "agentops_api_key = getpass('Enter your API key: ')\n",
        "os.environ[\"AGENTOPS_API_KEY\"] = agentops_api_key"
      ],
      "metadata": {
        "id": "HQ_yOT5_Hyt4"
      },
      "execution_count": null,
      "outputs": []
    },
    {
      "cell_type": "markdown",
      "source": [
        "Your can go to [here](https://console.mistral.ai/api-keys/) to get API Key from Mistral AI with **free** credits."
      ],
      "metadata": {
        "id": "czxWvnvnAimt"
      }
    },
    {
      "cell_type": "code",
      "source": [
        "# Prompt for the API key securely\n",
        "mistral_api_key = getpass('Enter your API key: ')\n",
        "os.environ[\"MISTRAL_API_KEY\"] = mistral_api_key"
      ],
      "metadata": {
        "id": "T0FBl1WF6jFs",
        "colab": {
          "base_uri": "https://localhost:8080/"
        },
        "outputId": "05502406-c889-46bd-a104-f0a1fe25f763"
      },
      "execution_count": null,
      "outputs": [
        {
          "name": "stdout",
          "output_type": "stream",
          "text": [
            "Enter your API key: ··········\n"
          ]
        }
      ]
    },
    {
      "cell_type": "markdown",
      "source": [
        "## 🌐 Search Answer to Input Query"
      ],
      "metadata": {
        "id": "NEUciNquON9_"
      }
    },
    {
      "cell_type": "markdown",
      "source": [
        "*In this section, we'll demonstrate how to use existing `SearchToolkit` to find the answer to an input query repeatly until it finds the answer*"
      ],
      "metadata": {
        "id": "6f64VOMMP93d"
      }
    },
    {
      "cell_type": "markdown",
      "source": [
        "### Prepare your environment by initializing necessary imports from CAMEL"
      ],
      "metadata": {
        "id": "46Irp_SurLaV"
      }
    },
    {
      "cell_type": "code",
      "source": [
        "from camel.agents import ChatAgent\n",
        "from camel.toolkits import SearchToolkit, FunctionTool\n",
        "from camel.types import ModelPlatformType, ModelType\n",
        "from camel.configs import ChatGPTConfig\n",
        "from camel.models import ModelFactory\n",
        "from colorama import Fore\n",
        "import asyncio"
      ],
      "metadata": {
        "id": "gE_qBFCVveBR"
      },
      "execution_count": null,
      "outputs": []
    },
    {
      "cell_type": "markdown",
      "source": [
        "### CAMEL `ChatAgent` repeatly call search API to find the answer based on a given query. `CriticAgent` will judge the answer and determine when to stop."
      ],
      "metadata": {
        "id": "WgmGEt2kkieQ"
      }
    },
    {
      "cell_type": "markdown",
      "source": [
        "Create a `ChatAgent`"
      ],
      "metadata": {
        "id": "C-xxDN2jvUS9"
      }
    },
    {
      "cell_type": "code",
      "source": [
        "# Initialize the model\n",
        "model = ModelFactory.create(\n",
        "    model_type=ModelType.DEFAULT,\n",
        "    model_platform=ModelPlatformType.DEFAULT,\n",
        "    model_config_dict=ChatGPTConfig(temperature=0.0).as_dict(),\n",
        ")\n",
        "\n",
        "# Create chat agent\n",
        "chat_system_message = (\n",
        "    \"\"\"You are a helpful assistant that can use a search\n",
        "      engine to answer questions.\n",
        "      Provide the best possible answer for each query.\"\"\"\n",
        "      )\n",
        "\n",
        "search_agent = ChatAgent(\n",
        "    system_message=chat_system_message,\n",
        "    model=model,\n",
        "    tools=[FunctionTool(SearchToolkit().search_google)],\n",
        ")\n",
        "\n"
      ],
      "metadata": {
        "id": "cSbjJ7aMvc3I"
      },
      "execution_count": null,
      "outputs": []
    },
    {
      "cell_type": "markdown",
      "source": [
        "Create a critic agent based `ChatAgent`"
      ],
      "metadata": {
        "id": "Sm8ADGr4xBDr"
      }
    },
    {
      "cell_type": "code",
      "source": [
        "critic_system_message = (\n",
        "    \"\"\"\n",
        "    You are a highly critical evaluator. Evaluate the following answer to\n",
        "the question: '{query}'.\n",
        "Answer: {content}\n",
        "\n",
        "Consider if the answer directly and completely addresses the question.\n",
        "\n",
        "\"\"\"\n",
        ")\n",
        "critic_agent = ChatAgent(system_message=critic_system_message, model=model)"
      ],
      "metadata": {
        "id": "psPv6sz7xEai"
      },
      "execution_count": null,
      "outputs": []
    },
    {
      "cell_type": "markdown",
      "source": [
        "The following function repeatly call search API to find the answer based on a given query."
      ],
      "metadata": {
        "id": "QVB-Xra8QIU1"
      }
    },
    {
      "cell_type": "code",
      "source": [
        "async def search_with_critic(\n",
        "    agent: ChatAgent,\n",
        "    critic_agent: ChatAgent,\n",
        "    query: str,\n",
        "    max_attempts: int = 3\n",
        ") -> str:\n",
        "  r\"\"\"Repeatly call search API to find the answer based on a given query.\n",
        "\n",
        "  Args:\n",
        "    agent (ChatAgent): The ChatAgent with the search tool.\n",
        "    critic_agent (CriticAgent): The CriticAgent to critique the answers.\n",
        "    initial_query (str): The initial search query.\n",
        "    max_attempts (int): The maximum number of search attempts.\n",
        "\n",
        "  Returns:\n",
        "    The answer to the query.\n",
        "  \"\"\"\n",
        "  for attempt in range(max_attempts):\n",
        "    print(f\"Attempt {attempt + 1}: Searching for '{query}'...\")\n",
        "    response = agent.step(query)\n",
        "    content = response.msgs[0].content\n",
        "\n",
        "    print(\"Agent's Response:\", content)\n",
        "    # Critique the agent's response\n",
        "\n",
        "    critic_prompt = f\"\"\"\n",
        "      You are a highly critical evaluator. Evaluate the following answer to\n",
        "      the question: '{query}'.\n",
        "      Answer: {content}\n",
        "\n",
        "      Consider if the answer completely addresses the question.\n",
        "\n",
        "      Respond with ONLY 'YES' if the answer meets the above criteria,\n",
        "      otherwise respond with ONLY 'NO'.\n",
        "      \"\"\"\n",
        "    critic_response = critic_agent.step(input_message=critic_prompt,\n",
        "                                        response_format=None)\n",
        "    critic_content = critic_response.msgs[0].content.strip().upper()\n",
        "    print(\"Critic's Response:\", critic_content)\n",
        "\n",
        "    if \"YES\" in critic_content:\n",
        "        print(Fore.RED + \"Satisfactory answer found!\")\n",
        "        return content\n",
        "    await asyncio.sleep(1)\n",
        "  return f\"Search incomplete after {max_attempts} attempts. \\\n",
        "  Last answer: {content}\"\n",
        "\n"
      ],
      "metadata": {
        "id": "bULpgfepjaoL"
      },
      "execution_count": null,
      "outputs": []
    },
    {
      "cell_type": "code",
      "source": [
        "# Define the initial query\n",
        "query = \"What is quantum mechanics, and what are the applications\"\n",
        "\n",
        "# Perform the search with the critic agent determining the final answer\n",
        "final_answer = await search_with_critic(search_agent, critic_agent, query)\n",
        "\n",
        "# Print the final answer\n",
        "print(\"\\nFinal Answer:\", final_answer)"
      ],
      "metadata": {
        "colab": {
          "base_uri": "https://localhost:8080/"
        },
        "id": "rn2EuD_0vFwP",
        "outputId": "771882df-0519-4615-d7be-7b23f9f89dc9"
      },
      "execution_count": null,
      "outputs": [
        {
          "output_type": "stream",
          "name": "stdout",
          "text": [
            "Attempt 1: Searching for 'What is quantum mechanics, and what are the applications'...\n",
            "Agent's Response: ### What is Quantum Mechanics?\n",
            "\n",
            "Quantum mechanics is a fundamental theory in physics that describes the physical properties of nature at the scale of atoms and subatomic particles. It provides a mathematical framework for understanding the behavior of matter and energy at these small scales, where classical mechanics fails to accurately describe phenomena. Key principles of quantum mechanics include:\n",
            "\n",
            "- **Wave-Particle Duality**: Particles, such as electrons, exhibit both wave-like and particle-like properties.\n",
            "- **Uncertainty Principle**: Formulated by Werner Heisenberg, it states that certain pairs of physical properties, like position and momentum, cannot be simultaneously known to arbitrary precision.\n",
            "- **Superposition**: Particles can exist in multiple states at once until measured.\n",
            "- **Entanglement**: Particles can become correlated in such a way that the state of one particle instantly influences the state of another, regardless of the distance separating them.\n",
            "\n",
            "For more detailed information, you can visit the [Wikipedia page on Quantum Mechanics](https://en.wikipedia.org/wiki/Quantum_mechanics).\n",
            "\n",
            "### Applications of Quantum Mechanics\n",
            "\n",
            "Quantum mechanics has numerous applications across various fields, including:\n",
            "\n",
            "1. **Quantum Chemistry**: It helps in understanding chemical bonding and reactions at the molecular level.\n",
            "2. **Semiconductors and Electronics**: Quantum mechanics is essential in the design of semiconductors, which are the foundation of modern electronics.\n",
            "3. **Quantum Computing**: Utilizes quantum bits (qubits) to perform computations much faster than classical computers for certain tasks.\n",
            "4. **Quantum Cryptography**: Provides secure communication methods based on the principles of quantum mechanics.\n",
            "5. **Medical Imaging**: Techniques like MRI rely on quantum mechanics principles to produce detailed images of the human body.\n",
            "6. **Lasers**: The operation of lasers is based on quantum mechanics, particularly the concept of stimulated emission.\n",
            "\n",
            "For more information on the applications of quantum mechanics, you can check the [Wikipedia page on Applications of Quantum Mechanics](https://en.wikipedia.org/wiki/Applications_of_quantum_mechanics).\n",
            "Critic's Response: YES\n",
            "\u001b[31mSatisfactory answer found!\n",
            "\n",
            "Final Answer: ### What is Quantum Mechanics?\n",
            "\n",
            "Quantum mechanics is a fundamental theory in physics that describes the physical properties of nature at the scale of atoms and subatomic particles. It provides a mathematical framework for understanding the behavior of matter and energy at these small scales, where classical mechanics fails to accurately describe phenomena. Key principles of quantum mechanics include:\n",
            "\n",
            "- **Wave-Particle Duality**: Particles, such as electrons, exhibit both wave-like and particle-like properties.\n",
            "- **Uncertainty Principle**: Formulated by Werner Heisenberg, it states that certain pairs of physical properties, like position and momentum, cannot be simultaneously known to arbitrary precision.\n",
            "- **Superposition**: Particles can exist in multiple states at once until measured.\n",
            "- **Entanglement**: Particles can become correlated in such a way that the state of one particle instantly influences the state of another, regardless of the distance separating them.\n",
            "\n",
            "For more detailed information, you can visit the [Wikipedia page on Quantum Mechanics](https://en.wikipedia.org/wiki/Quantum_mechanics).\n",
            "\n",
            "### Applications of Quantum Mechanics\n",
            "\n",
            "Quantum mechanics has numerous applications across various fields, including:\n",
            "\n",
            "1. **Quantum Chemistry**: It helps in understanding chemical bonding and reactions at the molecular level.\n",
            "2. **Semiconductors and Electronics**: Quantum mechanics is essential in the design of semiconductors, which are the foundation of modern electronics.\n",
            "3. **Quantum Computing**: Utilizes quantum bits (qubits) to perform computations much faster than classical computers for certain tasks.\n",
            "4. **Quantum Cryptography**: Provides secure communication methods based on the principles of quantum mechanics.\n",
            "5. **Medical Imaging**: Techniques like MRI rely on quantum mechanics principles to produce detailed images of the human body.\n",
            "6. **Lasers**: The operation of lasers is based on quantum mechanics, particularly the concept of stimulated emission.\n",
            "\n",
            "For more information on the applications of quantum mechanics, you can check the [Wikipedia page on Applications of Quantum Mechanics](https://en.wikipedia.org/wiki/Applications_of_quantum_mechanics).\n"
          ]
        }
      ]
    },
    {
      "cell_type": "markdown",
      "source": [
        "## 🌟 Highlights"
      ],
      "metadata": {
        "id": "flYNal6-R4yR"
      }
    },
    {
      "cell_type": "markdown",
      "source": [
        "This notebook has guided you through setting up and running agentic search using `SearchToolkit` and `ChatAgent`.\n",
        "\n",
        "Key tools utilized in this notebook include:\n",
        "\n",
        "*   **CAMEL**: A powerful multi-agent framework that enables Retrieval-Augmented Generation and multi-agent role-playing scenarios, allowing for sophisticated AI-driven tasks.\n",
        "*   **`ChatAgent`**: The ChatAgent class.\n",
        "*   **`SearchToolkit`**: A class representing a toolkit for web search.\n",
        "\n",
        "This comprehensive setup allows you to adapt and expand the example for various scenario using other search tools.\n",
        "\n",
        "**CAMEL also other Toolkits, for more information please check [here](https://colab.research.google.com/drive/1f1jYwDy6pB8QB6c_UdoBvFx6wr6kA5xq?usp=sharing)**"
      ],
      "metadata": {
        "id": "SmkXhy4JR726"
      }
    },
    {
      "cell_type": "markdown",
      "source": [],
      "metadata": {
        "id": "1Xgu3B9DVsGq"
      }
    },
    {
      "cell_type": "markdown",
      "source": [
        "That's everything: Got questions about 🐫 CAMEL-AI? Join us on [Discord](https://discord.camel-ai.org)! Whether you want to share feedback, explore the latest in multi-agent systems, get support, or connect with others on exciting projects, we’d love to have you in the community! 🤝\n",
        "\n",
        "Check out some of our other work:\n",
        "\n",
        "1. 🐫 Creating Your First CAMEL Agent [free Colab](https://docs.camel-ai.org/cookbooks/create_your_first_agent.html)\n",
        "\n",
        "2.  Graph RAG Cookbook [free Colab](https://colab.research.google.com/drive/1uZKQSuu0qW6ukkuSv9TukLB9bVaS1H0U?usp=sharing)\n",
        "\n",
        "3. 🧑‍⚖️ Create A Hackathon Judge Committee with Workforce [free Colab](https://colab.research.google.com/drive/18ajYUMfwDx3WyrjHow3EvUMpKQDcrLtr?usp=sharing)\n",
        "\n",
        "4. 🔥 3 ways to ingest data from websites with Firecrawl & CAMEL [free Colab](https://colab.research.google.com/drive/1lOmM3VmgR1hLwDKdeLGFve_75RFW0R9I?usp=sharing)\n",
        "\n",
        "5. 🦥 Agentic SFT Data Generation with CAMEL and Mistral Models, Fine-Tuned with Unsloth [free Colab](https://colab.research.google.com/drive/1lYgArBw7ARVPSpdwgKLYnp_NEXiNDOd-?usp=sharingg)\n",
        "\n",
        "Thanks from everyone at 🐫 CAMEL-AI\n",
        "\n",
        "\n",
        "<div class=\"align-center\">\n",
        "  <a href=\"https://www.camel-ai.org/\"><img src=\"https://i.postimg.cc/KzQ5rfBC/button.png\"width=\"150\"></a>\n",
        "  <a href=\"https://discord.camel-ai.org\"><img src=\"https://i.postimg.cc/L4wPdG9N/join-2.png\"  width=\"150\"></a></a>\n",
        "  \n",
        "⭐ <i>Star us on [*Github*](https://github.com/camel-ai/camel), join our [*Discord*](https://discord.camel-ai.org) or follow our [*X*](https://x.com/camelaiorg)\n",
        "</div>\n"
      ],
      "metadata": {
        "id": "s6Det-fcMb9A"
      }
    },
    {
      "cell_type": "code",
      "source": [],
      "metadata": {
        "id": "iLibSNZ--E6N"
      },
      "execution_count": null,
      "outputs": []
    }
  ]
}