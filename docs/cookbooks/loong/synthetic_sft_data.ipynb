{
 "cells": [
  {
   "cell_type": "code",
   "execution_count": 1,
   "metadata": {},
   "outputs": [
    {
     "data": {
      "text/plain": [
       "False"
      ]
     },
     "execution_count": 1,
     "metadata": {},
     "output_type": "execute_result"
    }
   ],
   "source": [
    "from dotenv import load_dotenv\n",
    "\n",
    "load_dotenv()"
   ]
  },
  {
   "cell_type": "code",
   "execution_count": 2,
   "metadata": {},
   "outputs": [],
   "source": [
    "from camel.logger import get_logger\n",
    "from camel.datasets import StaticDataset, FewShotGenerator\n",
    "\n",
    "\n",
    "logger = get_logger(__name__)\n",
    "\n",
    "\n",
    "\n",
    "data = [\n",
    "    {\n",
    "        \"question\": \"Let \\\\[f(x) = \\\\left\\\\{\\n\\\\begin{array}{cl} ax+3, &\\\\text{ if }x>2, \\\\\\\\\\nx-5 &\\\\text{ if } -2 \\\\le x \\\\le 2, \\\\\\\\\\n2x-b &\\\\text{ if } x <-2.\\n\\\\end{array}\\n\\\\right.\\\\]Find $a+b$ if the piecewise function is continuous (which means that its graph can be drawn without lifting your pencil from the paper).\",\n",
    "        \"final_answer\": \"0\",\n",
    "        \"rationale\": '''from sympy import symbols, Eq, solve\n",
    "a, b = symbols('a b')\n",
    "eq1 = Eq(2*a + 3, -3)\n",
    "eq2 = Eq(-7, -4 - b)\n",
    "sol_a = solve(eq1, a)[0]\n",
    "sol_b = solve(eq2, b)[0]\n",
    "result = sol_a + sol_b\n",
    "print(result)'''\n",
    "    },\n",
    "    {\n",
    "        \"question\": \"What is the degree of the polynomial $(4 +5x^3 +100 +2\\\\pi x^4 + \\\\sqrt{10}x^4 +9)$?\",\n",
    "        \"final_answer\": \"4\",\n",
    "        \"rationale\": '''from sympy import symbols, pi, sqrt, degree\n",
    "x = symbols('x')\n",
    "poly = 4 + 5*x**3 + 100 + 2*pi*x**4 + sqrt(10)*x**4 + 9\n",
    "deg = degree(poly, x)\n",
    "print(deg)'''\n",
    "    },\n",
    "    {\n",
    "        \"question\": \"Evaluate $\\\\left\\\\lceil3\\\\left(6-\\\\frac12\\\\right)\\\\right\\\\rceil$.\",\n",
    "        \"final_answer\": \"17\",\n",
    "        \"rationale\": '''from sympy import Rational, ceiling\n",
    "expr = 3 * (6 - Rational(1,2))\n",
    "result = ceiling(expr)\n",
    "print(result)'''\n",
    "    },\n",
    "    {\n",
    "        \"question\": \"Sam is hired for a 20-day period. On days that he works, he earns $\\\\$$60. For each day that he does not work, $\\\\$$30 is subtracted from his earnings. At the end of the 20-day period, he received $\\\\$$660. How many days did he not work?\",\n",
    "        \"final_answer\": \"6\",\n",
    "        \"rationale\": '''from sympy import symbols, Eq, solve\n",
    "x, y = symbols('x y')\n",
    "eq1 = Eq(x + y, 20)\n",
    "eq2 = Eq(60*x - 30*y, 660)\n",
    "solution = solve((eq1, eq2), (x, y))\n",
    "print(solution[y])'''\n",
    "    },\n",
    "    {\n",
    "        \"question\": \"Find the center of the circle with equation $x^2 - 6x + y^2 + 2y = 9$.\",\n",
    "        \"final_answer\": \"(3, -1)\",\n",
    "        \"rationale\": '''from sympy import symbols, Eq, solve\n",
    "x, y = symbols('x y')\n",
    "# Complete the square for x: x^2 - 6x = (x - 3)^2 - 9\n",
    "# Complete the square for y: y^2 + 2y = (y + 1)^2 - 1\n",
    "# Equation becomes: (x - 3)^2 - 9 + (y + 1)^2 - 1 = 9\n",
    "# Simplify: (x - 3)^2 + (y + 1)^2 = 19\n",
    "h = 3  # x-coordinate of center\n",
    "k = -1  # y-coordinate of center\n",
    "result = (h, k)\n",
    "print(result)'''\n",
    "    },\n",
    "    {\n",
    "        \"question\": \"What are all values of $p$ such that for every $q>0$, we have $$\\\\frac{3(pq^2+p^2q+3q^2+3pq)}{p+q}>2p^2q?$$ Express your answer in interval notation in decimal form.\",\n",
    "        \"final_answer\": \"[0, 3)\",\n",
    "        \"rationale\": '''from sympy import symbols, solve, GreaterThan\n",
    "p = symbols('p')\n",
    "# After simplification: 3(p + 3) > 2*p**2 for all q > 0, assuming p >= 0\n",
    "expr = 2*p**2 - 3*p - 9  # Solve 2p^2 - 3p - 9 < 0\n",
    "solutions = solve(expr < 0, p)\n",
    "# Roots are -1.5 and 3, negative between them, intersect with p >= 0\n",
    "result = \"[0, 3)\"  # Hardcoded interval based on solution and p >= 0\n",
    "print(result)'''\n",
    "    },\n",
    "    {\n",
    "        \"question\": \"If $x = 2$ and $y = 5$, then what is the value of $\\\\frac{x^4+2y^2}{6}$ ?\",\n",
    "        \"final_answer\": \"11\",\n",
    "        \"rationale\": '''from sympy import symbols\n",
    "x, y = symbols('x y')\n",
    "expr = (x**4 + 2*y**2) / 6\n",
    "result = expr.subs({x: 2, y: 5})\n",
    "print(result)'''\n",
    "    },\n",
    "    {\n",
    "        \"question\": \"Tim wants to invest some money in a bank which compounds quarterly with an annual interest rate of $7\\\\%$. To the nearest dollar, how much money should he invest if he wants a total of $\\\\$60,\\\\!000$ at the end of $5$ years?\",\n",
    "        \"final_answer\": \"42409\",\n",
    "        \"rationale\": '''from sympy import symbols, floor\n",
    "P = symbols('P')\n",
    "A = 60000\n",
    "r = 0.07\n",
    "n = 4\n",
    "t = 5\n",
    "eq = Eq(A, P * (1 + r/n)**(n*t))\n",
    "P_value = solve(eq, P)[0]\n",
    "result = floor(P_value.evalf())  # Round down to nearest dollar\n",
    "print(result)'''\n",
    "    },\n",
    "    {\n",
    "        \"question\": \"Berengere and her American foreign-exchange student Emily are at a bakery in Paris that accepts both euros and American dollars. They want to buy a cake, but neither of them has enough money. If the cake costs 6 euros and Emily has an American five-dollar bill, how many euros does Berengere need to contribute to the cost of the cake if 1 euro = 1.25 USD?\",\n",
    "        \"final_answer\": \"2\",\n",
    "        \"rationale\": '''from sympy import symbols, Eq, solve\n",
    "B = symbols('B')\n",
    "# 1 euro = 1.25 USD, so 5 USD = 5 / 1.25 euros\n",
    "emily_contribution = 5 / 1.25  # 4 euros\n",
    "total_cost = 6\n",
    "eq = Eq(emily_contribution + B, total_cost)\n",
    "result = solve(eq, B)[0]\n",
    "print(int(result))'''\n",
    "    },\n",
    "    {\n",
    "        \"question\": \"Simplify $\\\\sqrt[3]{1+8} \\\\cdot \\\\sqrt[3]{1+\\\\sqrt[3]{8}}$.\",\n",
    "        \"final_answer\": \"3\",\n",
    "        \"rationale\": '''from sympy import cbrt\n",
    "# sqrt[3]{1 + 8} = cbrt(9)\n",
    "# sqrt[3]{8} = 2, so sqrt[3]{1 + sqrt[3]{8}} = cbrt(1 + 2) = cbrt(3)\n",
    "result = cbrt(9) * cbrt(3)  # cbrt(9 * 3) = cbrt(27) = 3\n",
    "print(result)'''\n",
    "    }\n",
    "]\n",
    "\n",
    "seed_dataset = StaticDataset(data)"
   ]
  },
  {
   "cell_type": "code",
   "execution_count": 3,
   "metadata": {},
   "outputs": [],
   "source": [
    "from camel.verifiers import PythonVerifier\n",
    "\n",
    "verifier = PythonVerifier(required_packages=[\"sympy\"])\n",
    "await verifier.setup(uv=True)"
   ]
  },
  {
   "cell_type": "code",
   "execution_count": 4,
   "metadata": {},
   "outputs": [],
   "source": [
    "import os\n",
    "from getpass import getpass\n",
    "# Prompt for the OpenAI API key securely\n",
    "openai_api_key = getpass('Enter your OpenAI API key: ')\n",
    "os.environ[\"OPENAI_API_KEY\"] = openai_api_key"
   ]
  },
  {
   "cell_type": "code",
   "execution_count": 5,
   "metadata": {},
   "outputs": [],
   "source": [
    "from camel.models import ModelFactory\n",
    "from camel.types import ModelPlatformType, ModelType\n",
    "from camel.configs import ChatGPTConfig\n",
    "\n",
    "\n",
    "model = ModelFactory.create(\n",
    "    model_platform=ModelPlatformType.OPENAI,\n",
    "    model_type=ModelType.GPT_4O_MINI,\n",
    "    model_config_dict=ChatGPTConfig().as_dict(),\n",
    ")\n",
    "generator = FewShotGenerator(\n",
    "    seed_dataset=seed_dataset, verifier=verifier, model=model\n",
    ")"
   ]
  },
  {
   "cell_type": "code",
   "execution_count": null,
   "metadata": {},
   "outputs": [
    {
     "name": "stdout",
     "output_type": "stream",
     "text": [
      "2025-03-28 12:19:45,117 - camel.camel.datasets.few_shot_generator - WARNING - Verifier issue: Verifier unsuccessful, response: status=<VerificationOutcome.ERROR: 'error'> result='' duration=0.1460418701171875 timestamp=datetime.datetime(2025, 3, 28, 12, 19, 45, 116894) metadata={'attempt': 1} error_message='Solution code error:\\nTraceback (most recent call last):\\n  File \"/tmp/tmpktc3qvu0.py\", line 1, in <module>\\n    from sympy import symbols, Vertex, Rational\\nImportError: cannot import name \\'Vertex\\' from \\'sympy\\' (/tmp/tmpwpmx_15m/lib/python3.11/site-packages/sympy/__init__.py)', retrying... (1/10)\n",
      "2025-03-28 12:19:52,246 - camel.camel.datasets.base_generator - ERROR - Error writing to file /home/stranger/CODE/camel/docs/cookbooks/loong: [Errno 21] Is a directory: '/home/stranger/CODE/camel/docs/cookbooks/loong'\n"
     ]
    },
    {
     "ename": "IsADirectoryError",
     "evalue": "[Errno 21] Is a directory: '/home/stranger/CODE/camel/docs/cookbooks/loong'",
     "output_type": "error",
     "traceback": [
      "\u001b[31m---------------------------------------------------------------------------\u001b[39m",
      "\u001b[31mIsADirectoryError\u001b[39m                         Traceback (most recent call last)",
      "\u001b[36mCell\u001b[39m\u001b[36m \u001b[39m\u001b[32mIn[7]\u001b[39m\u001b[32m, line 2\u001b[39m\n\u001b[32m      1\u001b[39m \u001b[38;5;28;01mawait\u001b[39;00m generator.generate_new(n=\u001b[32m20\u001b[39m, num_examples=\u001b[32m10\u001b[39m)\n\u001b[32m----> \u001b[39m\u001b[32m2\u001b[39m \u001b[43mgenerator\u001b[49m\u001b[43m.\u001b[49m\u001b[43msave_to_jsonl\u001b[49m\u001b[43m(\u001b[49m\u001b[43mfile_path\u001b[49m\u001b[43m=\u001b[49m\u001b[33;43m\"\u001b[39;49m\u001b[33;43m/home/stranger/CODE/camel/docs/cookbooks/loong/\u001b[39;49m\u001b[33;43m\"\u001b[39;49m\u001b[43m)\u001b[49m\n",
      "\u001b[36mFile \u001b[39m\u001b[32m~/CODE/camel/camel/datasets/base_generator.py:217\u001b[39m, in \u001b[36mBaseGenerator.save_to_jsonl\u001b[39m\u001b[34m(self, file_path)\u001b[39m\n\u001b[32m    214\u001b[39m file_path = Path(file_path)\n\u001b[32m    216\u001b[39m \u001b[38;5;28;01mtry\u001b[39;00m:\n\u001b[32m--> \u001b[39m\u001b[32m217\u001b[39m     \u001b[38;5;28;01mwith\u001b[39;00m \u001b[43mfile_path\u001b[49m\u001b[43m.\u001b[49m\u001b[43mopen\u001b[49m\u001b[43m(\u001b[49m\u001b[33;43m\"\u001b[39;49m\u001b[33;43ma\u001b[39;49m\u001b[33;43m\"\u001b[39;49m\u001b[43m,\u001b[49m\u001b[43m \u001b[49m\u001b[43mencoding\u001b[49m\u001b[43m=\u001b[49m\u001b[33;43m\"\u001b[39;49m\u001b[33;43mutf-8\u001b[39;49m\u001b[33;43m\"\u001b[39;49m\u001b[43m)\u001b[49m \u001b[38;5;28;01mas\u001b[39;00m f:\n\u001b[32m    218\u001b[39m         \u001b[38;5;28;01mfor\u001b[39;00m datapoint \u001b[38;5;129;01min\u001b[39;00m \u001b[38;5;28mself\u001b[39m._data:\n\u001b[32m    219\u001b[39m             json.dump(datapoint.to_dict(), f, ensure_ascii=\u001b[38;5;28;01mFalse\u001b[39;00m)\n",
      "\u001b[36mFile \u001b[39m\u001b[32m~/.local/share/uv/python/cpython-3.11.11-linux-x86_64-gnu/lib/python3.11/pathlib.py:1044\u001b[39m, in \u001b[36mPath.open\u001b[39m\u001b[34m(self, mode, buffering, encoding, errors, newline)\u001b[39m\n\u001b[32m   1042\u001b[39m \u001b[38;5;28;01mif\u001b[39;00m \u001b[33m\"\u001b[39m\u001b[33mb\u001b[39m\u001b[33m\"\u001b[39m \u001b[38;5;129;01mnot\u001b[39;00m \u001b[38;5;129;01min\u001b[39;00m mode:\n\u001b[32m   1043\u001b[39m     encoding = io.text_encoding(encoding)\n\u001b[32m-> \u001b[39m\u001b[32m1044\u001b[39m \u001b[38;5;28;01mreturn\u001b[39;00m io.open(\u001b[38;5;28mself\u001b[39m, mode, buffering, encoding, errors, newline)\n",
      "\u001b[31mIsADirectoryError\u001b[39m: [Errno 21] Is a directory: '/home/stranger/CODE/camel/docs/cookbooks/loong'"
     ]
    }
   ],
   "source": [
    "await generator.generate_new(n=20)"
   ]
  },
  {
   "cell_type": "code",
   "execution_count": null,
   "metadata": {},
   "outputs": [],
   "source": [
    "generator.save_to_jsonl(file_path=\"data.jsonl\")"
   ]
  },
  {
   "cell_type": "code",
   "execution_count": 10,
   "metadata": {},
   "outputs": [],
   "source": [
    "from pathlib import Path\n",
    "\n",
    "proposal_synthetic_data = StaticDataset(Path(\"data.jsonl\"))"
   ]
  },
  {
   "cell_type": "code",
   "execution_count": 13,
   "metadata": {},
   "outputs": [],
   "source": [
    "from camel.agents import ChatAgent\n",
    "\n",
    "agent = ChatAgent(model=model, system_message= \"Use chain of thought reasoning to come up with a solution to the following question: \")"
   ]
  },
  {
   "cell_type": "code",
   "execution_count": null,
   "metadata": {},
   "outputs": [
    {
     "name": "stdout",
     "output_type": "stream",
     "text": [
      "BaseMessage(role_name='Assistant', role_type=<RoleType.ASSISTANT: 'assistant'>, meta_dict={}, content='To find the maximum value of the function \\\\( f(x) = -2x^2 + 8x + 3 \\\\), we can start by determining the vertex of the quadratic function, as a parabola opens downwards (since the coefficient of \\\\( x^2 \\\\), which is -2, is negative) and thus will have a maximum point at its vertex.\\n\\nThe x-coordinate of the vertex for a quadratic function \\\\( ax^2 + bx + c \\\\) can be given by the formula:\\n\\n\\\\[\\nx = -\\\\frac{b}{2a}\\n\\\\]\\n\\nFor our function, we have:\\n- \\\\( a = -2 \\\\)\\n- \\\\( b = 8 \\\\)\\n\\nNow substituting these values into the formula:\\n\\n\\\\[\\nx = -\\\\frac{8}{2(-2)}\\n\\\\]\\n\\\\[\\nx = -\\\\frac{8}{-4} = 2\\n\\\\]\\n\\nNext, we find the maximum value by substituting \\\\( x = 2 \\\\) back into the function \\\\( f(x) \\\\):\\n\\n\\\\[\\nf(2) = -2(2)^2 + 8(2) + 3\\n\\\\]\\n\\nCalculating \\\\( (2)^2 \\\\):\\n\\n\\\\[\\n(2)^2 = 4\\n\\\\]\\n\\nNow substituting this into \\\\( f(2) \\\\):\\n\\n\\\\[\\nf(2) = -2(4) + 8(2) + 3\\n\\\\]\\n\\\\[\\nf(2) = -8 + 16 + 3\\n\\\\]\\n\\\\[\\nf(2) = 8 + 3 = 11\\n\\\\]\\n\\nThus, the maximum value of the function \\\\( f(x) \\\\) is \\n\\n\\\\[\\n\\\\boxed{11}\\n\\\\]', video_bytes=None, image_list=None, image_detail='auto', video_detail='low', parsed=None)\n"
     ]
    }
   ],
   "source": [
    "agent_outputs = []\n",
    "\n",
    "for i in range(len(proposal_synthetic_data)):\n",
    "    dp = proposal_synthetic_data[i]\n",
    "    question = dp.question\n",
    "\n",
    "    agent_output = agent.step(question).msgs[0]\n",
    "    print(agent_output)\n",
    "\n",
    "\n"
   ]
  }
 ],
 "metadata": {
  "kernelspec": {
   "display_name": ".venv",
   "language": "python",
   "name": "python3"
  },
  "language_info": {
   "codemirror_mode": {
    "name": "ipython",
    "version": 3
   },
   "file_extension": ".py",
   "mimetype": "text/x-python",
   "name": "python",
   "nbconvert_exporter": "python",
   "pygments_lexer": "ipython3",
   "version": "3.11.11"
  }
 },
 "nbformat": 4,
 "nbformat_minor": 2
}
