{
 "cells": [
  {
   "cell_type": "code",
   "execution_count": 1,
   "metadata": {},
   "outputs": [
    {
     "data": {
      "text/plain": [
       "True"
      ]
     },
     "execution_count": 1,
     "metadata": {},
     "output_type": "execute_result"
    }
   ],
   "source": [
    "from dotenv import load_dotenv\n",
    "\n",
    "load_dotenv()"
   ]
  },
  {
   "cell_type": "code",
   "execution_count": 2,
   "metadata": {},
   "outputs": [
    {
     "name": "stderr",
     "output_type": "stream",
     "text": [
      "/home/student/Code/camel/.venv/lib/python3.11/site-packages/tqdm/auto.py:21: TqdmWarning: IProgress not found. Please update jupyter and ipywidgets. See https://ipywidgets.readthedocs.io/en/stable/user_install.html\n",
      "  from .autonotebook import tqdm as notebook_tqdm\n"
     ]
    }
   ],
   "source": [
    "from camel.logger import get_logger\n",
    "from camel.datasets import StaticDataset, FewShotGenerator\n",
    "\n",
    "\n",
    "logger = get_logger(__name__)\n",
    "\n",
    "\n",
    "\n",
    "data = [\n",
    "    {\n",
    "        \"question\": \"Let \\\\[f(x) = \\\\left\\\\{\\n\\\\begin{array}{cl} ax+3, &\\\\text{ if }x>2, \\\\\\\\\\nx-5 &\\\\text{ if } -2 \\\\le x \\\\le 2, \\\\\\\\\\n2x-b &\\\\text{ if } x <-2.\\n\\\\end{array}\\n\\\\right.\\\\]Find $a+b$ if the piecewise function is continuous (which means that its graph can be drawn without lifting your pencil from the paper).\",\n",
    "        \"final_answer\": \"0\",\n",
    "        \"rationale\": '''from sympy import symbols, Eq, solve\n",
    "a, b = symbols('a b')\n",
    "eq1 = Eq(2*a + 3, -3)\n",
    "eq2 = Eq(-7, -4 - b)\n",
    "sol_a = solve(eq1, a)[0]\n",
    "sol_b = solve(eq2, b)[0]\n",
    "result = sol_a + sol_b\n",
    "print(result)'''\n",
    "    },\n",
    "    {\n",
    "        \"question\": \"What is the degree of the polynomial $(4 +5x^3 +100 +2\\\\pi x^4 + \\\\sqrt{10}x^4 +9)$?\",\n",
    "        \"final_answer\": \"4\",\n",
    "        \"rationale\": '''from sympy import symbols, pi, sqrt, degree\n",
    "x = symbols('x')\n",
    "poly = 4 + 5*x**3 + 100 + 2*pi*x**4 + sqrt(10)*x**4 + 9\n",
    "deg = degree(poly, x)\n",
    "print(deg)'''\n",
    "    },\n",
    "    {\n",
    "        \"question\": \"Evaluate $\\\\left\\\\lceil3\\\\left(6-\\\\frac12\\\\right)\\\\right\\\\rceil$.\",\n",
    "        \"final_answer\": \"17\",\n",
    "        \"rationale\": '''from sympy import Rational, ceiling\n",
    "expr = 3 * (6 - Rational(1,2))\n",
    "result = ceiling(expr)\n",
    "print(result)'''\n",
    "    },\n",
    "    {\n",
    "        \"question\": \"Sam is hired for a 20-day period. On days that he works, he earns $\\\\$$60. For each day that he does not work, $\\\\$$30 is subtracted from his earnings. At the end of the 20-day period, he received $\\\\$$660. How many days did he not work?\",\n",
    "        \"final_answer\": \"6\",\n",
    "        \"rationale\": '''from sympy import symbols, Eq, solve\n",
    "x, y = symbols('x y')\n",
    "eq1 = Eq(x + y, 20)\n",
    "eq2 = Eq(60*x - 30*y, 660)\n",
    "solution = solve((eq1, eq2), (x, y))\n",
    "print(solution[y])'''\n",
    "    },\n",
    "    {\n",
    "        \"question\": \"Find the center of the circle with equation $x^2 - 6x + y^2 + 2y = 9$.\",\n",
    "        \"final_answer\": \"(3, -1)\",\n",
    "        \"rationale\": '''from sympy import symbols, Eq, solve\n",
    "x, y = symbols('x y')\n",
    "# Complete the square for x: x^2 - 6x = (x - 3)^2 - 9\n",
    "# Complete the square for y: y^2 + 2y = (y + 1)^2 - 1\n",
    "# Equation becomes: (x - 3)^2 - 9 + (y + 1)^2 - 1 = 9\n",
    "# Simplify: (x - 3)^2 + (y + 1)^2 = 19\n",
    "h = 3  # x-coordinate of center\n",
    "k = -1  # y-coordinate of center\n",
    "result = (h, k)\n",
    "print(result)'''\n",
    "    },\n",
    "    {\n",
    "        \"question\": \"What are all values of $p$ such that for every $q>0$, we have $$\\\\frac{3(pq^2+p^2q+3q^2+3pq)}{p+q}>2p^2q?$$ Express your answer in interval notation in decimal form.\",\n",
    "        \"final_answer\": \"[0, 3)\",\n",
    "        \"rationale\": '''from sympy import symbols, solve, GreaterThan\n",
    "p = symbols('p')\n",
    "# After simplification: 3(p + 3) > 2*p**2 for all q > 0, assuming p >= 0\n",
    "expr = 2*p**2 - 3*p - 9  # Solve 2p^2 - 3p - 9 < 0\n",
    "solutions = solve(expr < 0, p)\n",
    "# Roots are -1.5 and 3, negative between them, intersect with p >= 0\n",
    "result = \"[0, 3)\"  # Hardcoded interval based on solution and p >= 0\n",
    "print(result)'''\n",
    "    },\n",
    "    {\n",
    "        \"question\": \"If $x = 2$ and $y = 5$, then what is the value of $\\\\frac{x^4+2y^2}{6}$ ?\",\n",
    "        \"final_answer\": \"11\",\n",
    "        \"rationale\": '''from sympy import symbols\n",
    "x, y = symbols('x y')\n",
    "expr = (x**4 + 2*y**2) / 6\n",
    "result = expr.subs({x: 2, y: 5})\n",
    "print(result)'''\n",
    "    },\n",
    "    {\n",
    "        \"question\": \"Tim wants to invest some money in a bank which compounds quarterly with an annual interest rate of $7\\\\%$. To the nearest dollar, how much money should he invest if he wants a total of $\\\\$60,\\\\!000$ at the end of $5$ years?\",\n",
    "        \"final_answer\": \"42409\",\n",
    "        \"rationale\": '''from sympy import symbols, floor\n",
    "P = symbols('P')\n",
    "A = 60000\n",
    "r = 0.07\n",
    "n = 4\n",
    "t = 5\n",
    "eq = Eq(A, P * (1 + r/n)**(n*t))\n",
    "P_value = solve(eq, P)[0]\n",
    "result = floor(P_value.evalf())  # Round down to nearest dollar\n",
    "print(result)'''\n",
    "    },\n",
    "    {\n",
    "        \"question\": \"Berengere and her American foreign-exchange student Emily are at a bakery in Paris that accepts both euros and American dollars. They want to buy a cake, but neither of them has enough money. If the cake costs 6 euros and Emily has an American five-dollar bill, how many euros does Berengere need to contribute to the cost of the cake if 1 euro = 1.25 USD?\",\n",
    "        \"final_answer\": \"2\",\n",
    "        \"rationale\": '''from sympy import symbols, Eq, solve\n",
    "B = symbols('B')\n",
    "# 1 euro = 1.25 USD, so 5 USD = 5 / 1.25 euros\n",
    "emily_contribution = 5 / 1.25  # 4 euros\n",
    "total_cost = 6\n",
    "eq = Eq(emily_contribution + B, total_cost)\n",
    "result = solve(eq, B)[0]\n",
    "print(int(result))'''\n",
    "    },\n",
    "    {\n",
    "        \"question\": \"Simplify $\\\\sqrt[3]{1+8} \\\\cdot \\\\sqrt[3]{1+\\\\sqrt[3]{8}}$.\",\n",
    "        \"final_answer\": \"3\",\n",
    "        \"rationale\": '''from sympy import cbrt\n",
    "# sqrt[3]{1 + 8} = cbrt(9)\n",
    "# sqrt[3]{8} = 2, so sqrt[3]{1 + sqrt[3]{8}} = cbrt(1 + 2) = cbrt(3)\n",
    "result = cbrt(9) * cbrt(3)  # cbrt(9 * 3) = cbrt(27) = 3\n",
    "print(result)'''\n",
    "    }\n",
    "]\n",
    "\n",
    "seed_dataset = StaticDataset(data)"
   ]
  },
  {
   "cell_type": "code",
   "execution_count": 3,
   "metadata": {},
   "outputs": [],
   "source": [
    "from camel.verifiers import PythonVerifier\n",
    "\n",
    "verifier = PythonVerifier(required_packages=[\"sympy\"])\n",
    "await verifier.setup(uv=True)"
   ]
  },
  {
   "cell_type": "code",
   "execution_count": 4,
   "metadata": {},
   "outputs": [],
   "source": [
    "from camel.models import ModelFactory\n",
    "from camel.types import ModelPlatformType, ModelType\n",
    "from camel.configs import ChatGPTConfig\n",
    "\n",
    "\n",
    "model = ModelFactory.create(\n",
    "    model_platform=ModelPlatformType.OPENAI,\n",
    "    model_type=ModelType.GPT_4O_MINI,\n",
    "    model_config_dict=ChatGPTConfig().as_dict(),\n",
    ")\n",
    "generator = FewShotGenerator(\n",
    "    seed_dataset=seed_dataset, verifier=verifier, model=model\n",
    ")"
   ]
  },
  {
   "cell_type": "code",
   "execution_count": 5,
   "metadata": {},
   "outputs": [
    {
     "data": {
      "text/plain": [
       "[DataPoint(question='What is the derivative of the function $f(x) = 3x^4 - 5x^2 + 7$?', final_answer='12*x**3 - 10*x', rationale=\"from sympy import symbols, diff\\nx = symbols('x')\\nf = 3*x**4 - 5*x**2 + 7\\nderivative = diff(f, x)\\nprint(derivative)\", metadata={'synthetic': 'True', 'created': '2025-03-28T12:43:56.867630', 'generator': 'few_shot'}),\n",
       " DataPoint(question='Aisha is collecting stamps over a 30-day period. For each day that she collects stamps, she earns $\\\\$50$. If she skips a day, she loses $\\\\$20$. At the end of the 30 days, Aisha has a total of $\\\\$1000$. How many days did she skip?', final_answer='50/7', rationale=\"from sympy import symbols, Eq, solve\\nx, y = symbols('x y')\\neq1 = Eq(x + y, 30)\\neq2 = Eq(50*x - 20*y, 1000)\\nsolution = solve((eq1, eq2), (x, y))\\nprint(solution[y])\", metadata={'synthetic': 'True', 'created': '2025-03-28T12:44:00.435510', 'generator': 'few_shot'}),\n",
       " DataPoint(question='If a car travels 60 miles in 1.5 hours, what is its average speed in miles per hour?', final_answer='40.0', rationale='distance = 60  # miles\\ntime = 1.5  # hours\\naverage_speed = distance / time\\nprint(average_speed)', metadata={'synthetic': 'True', 'created': '2025-03-28T12:44:02.325592', 'generator': 'few_shot'}),\n",
       " DataPoint(question='Calculate the limit of \\\\( \\\\frac{x^2 - 9}{x - 3} \\\\) as \\\\( x \\\\) approaches 3.', final_answer='6', rationale=\"from sympy import limit, symbols\\nx = symbols('x')\\nf = (x**2 - 9) / (x - 3)\\nresult = limit(f, x, 3)\\nprint(result)\", metadata={'synthetic': 'True', 'created': '2025-03-28T12:44:04.975842', 'generator': 'few_shot'}),\n",
       " DataPoint(question='If the quadratic equation $2x^2 + ax + b = 0$ has roots at $x = 3$ and $x = -1$, find the sum $a + b$.', final_answer='-10', rationale=\"from sympy import symbols, Eq, solve\\nx, a, b = symbols('x a b')\\n# Roots of the quadratic equation given\\nroot1 = 3\\nroot2 = -1\\n# Using Vieta's formulas: sum of roots = -a / 2\\n# sum of roots: 3 + (-1) = 2 = -a / 2\\neq1 = Eq(2, -a / 2)\\n# product of roots = b / 2: 3 * (-1) = b / 2\\nproduct = -3\\neq2 = Eq(product, b / 2)\\n\\nsol_a = solve(eq1, a)[0]\\nsol_b = solve(eq2, b)[0]\\nresult = sol_a + sol_b\\nprint(result)\", metadata={'synthetic': 'True', 'created': '2025-03-28T12:44:09.857762', 'generator': 'few_shot'}),\n",
       " DataPoint(question='Alex has a part-time job where he works a total of 15 days in a month. He earns $\\x0240 per day he works, but for each day he misses, he loses $\\x0120 from his total earnings. If at the end of the month, his total earnings are $\\x03780, how many days did he miss?', final_answer='-1/2', rationale=\"from sympy import symbols, Eq, solve\\nx, y = symbols('x y')\\neq1 = Eq(x + y, 15)  # x = days worked, y = days missed\\neq2 = Eq(240*x - 120*y, 3780)  # earnings calculation\\nsolution = solve((eq1, eq2), (x, y))\\nprint(solution[y])\", metadata={'synthetic': 'True', 'created': '2025-03-28T12:44:13.753712', 'generator': 'few_shot'}),\n",
       " DataPoint(question='A piecewise function is defined as follows: \\\\[ f(x) = \\\\left\\\\{\\\\begin{array}{cl} mx + 2, & \\\\text{if } x \\\\geq 1, \\\\\\\\ x^2 - 4, & \\\\text{if } -1 < x < 1, \\\\\\\\ 3 - nx, & \\\\text{if } x \\\\leq -1. \\\\end{array}\\\\right. \\\\] Determine the values of $m$ and $n$, and compute $m + n$ such that the function is continuous at the points where the pieces meet.', final_answer='-3', rationale=\"from sympy import symbols, Eq, solve\\nm, n = symbols('m n')\\n# Continuity at x = 1\\neq1 = Eq(m*1 + 2, 1**2 - 4)\\n# Continuity at x = -1\\neq2 = Eq(-3 + n*(-1), -1**2 - 4)\\nsol_m = solve(eq1, m)[0]\\nsol_n = solve(eq2, n)[0]\\nresult = sol_m + sol_n\\nprint(result)\", metadata={'synthetic': 'True', 'created': '2025-03-28T12:44:19.438075', 'generator': 'few_shot'}),\n",
       " DataPoint(question='A car rental agency charges a fixed fee of $30 for renting a car per day. After five days of rental, a customer returns the car and finds they need to pay $240 in total. How many days did the customer rent the car?', final_answer='8', rationale=\"from sympy import symbols, Eq, solve\\nx = symbols('x')\\n# The cost is calculated as 30 dollars per day\\nrental_fee_per_day = 30\\n# Total fee = number of days * daily rental fee\\n# Given that the total cost is $240\\ntotal_cost = 240\\n# Set up the equation\\nequation = Eq(x * rental_fee_per_day, total_cost)\\nresult = solve(equation, x)[0]\\nprint(int(result))\", metadata={'synthetic': 'True', 'created': '2025-03-28T12:44:23.070613', 'generator': 'few_shot'}),\n",
       " DataPoint(question='What is the total distance covered by a car that travels at a speed of 60 km/h for 3 hours and then at 80 km/h for 2 hours?', final_answer='340', rationale='speed1 = 60  # km/h\\ntime1 = 3  # hours\\ndistance1 = speed1 * time1  # distance = speed * time\\n\\nspeed2 = 80  # km/h\\ntime2 = 2  # hours\\ndistance2 = speed2 * time2  # distance = speed * time\\n\\ntotal_distance = distance1 + distance2\\nprint(total_distance)', metadata={'synthetic': 'True', 'created': '2025-03-28T12:44:26.238163', 'generator': 'few_shot'}),\n",
       " DataPoint(question='Let \\\\[g(x) = \\\\left\\\\{ \\\\begin{array}{cl} 3x + c, &\\\\text{ if }x > 1, \\\\\\\\ 2x + 4, &\\\\text{ if } -1 \\\\le x \\\\le 1, \\\\\\\\ x - 3d, &\\\\text{ if } x < -1. \\\\end{array} \\\\right.\\\\]Find \\\\(c + d\\\\) if the piecewise function is continuous.', final_answer='10/3', rationale=\"from sympy import symbols, Eq, solve\\nc, d = symbols('c d')\\neq1 = Eq(2*1 + 4, 3*1 + c)\\neq2 = Eq(-1 - 3*d, -2)\\nsol_c = solve(eq1, c)[0]\\nsol_d = solve(eq2, d)[0]\\nresult = sol_c + sol_d\\nprint(result)\", metadata={'synthetic': 'True', 'created': '2025-03-28T12:44:30.471730', 'generator': 'few_shot'})]"
      ]
     },
     "execution_count": 5,
     "metadata": {},
     "output_type": "execute_result"
    }
   ],
   "source": [
    "await generator.generate_new(n=10)"
   ]
  },
  {
   "cell_type": "code",
   "execution_count": 6,
   "metadata": {},
   "outputs": [],
   "source": [
    "generator.save_to_jsonl(file_path=\"data.jsonl\")"
   ]
  },
  {
   "cell_type": "code",
   "execution_count": 7,
   "metadata": {},
   "outputs": [],
   "source": [
    "from pathlib import Path\n",
    "\n",
    "proposal_synthetic_data = StaticDataset(Path(\"data.jsonl\"))"
   ]
  },
  {
   "cell_type": "code",
   "execution_count": 8,
   "metadata": {},
   "outputs": [],
   "source": [
    "from camel.agents import ChatAgent\n",
    "\n",
    "agent = ChatAgent(model=model, system_message= \"Wrap your answer in \\\\boxed{...}. Use chain of thought reasoning to come up with a solution to the following question: \")"
   ]
  },
  {
   "cell_type": "code",
   "execution_count": 11,
   "metadata": {},
   "outputs": [
    {
     "name": "stdout",
     "output_type": "stream",
     "text": [
      "BaseMessage(role_name='Assistant', role_type=<RoleType.ASSISTANT: 'assistant'>, meta_dict={}, content=\"To find the derivative of the function \\\\( f(x) = 3x^4 - 5x^2 + 7 \\\\), we will apply the power rule for differentiation. The power rule states that if \\\\( f(x) = ax^n \\\\), then the derivative \\\\( f'(x) = a \\\\cdot n \\\\cdot x^{n-1} \\\\).\\n\\nLet's differentiate each term of the function \\\\( f(x) \\\\):\\n\\n1. For the first term \\\\( 3x^4 \\\\):\\n   \\\\[\\n   \\\\frac{d}{dx}(3x^4) = 3 \\\\cdot 4 \\\\cdot x^{4-1} = 12x^3.\\n   \\\\]\\n\\n2. For the second term \\\\( -5x^2 \\\\):\\n   \\\\[\\n   \\\\frac{d}{dx}(-5x^2) = -5 \\\\cdot 2 \\\\cdot x^{2-1} = -10x.\\n   \\\\]\\n\\n3. For the constant term \\\\( 7 \\\\):\\n   \\\\[\\n   \\\\frac{d}{dx}(7) = 0.\\n   \\\\]\\n\\nNow we can combine the derivatives of each term:\\n\\\\[\\nf'(x) = 12x^3 - 10x + 0.\\n\\\\]\\n\\nThus, simplifying gives:\\n\\\\[\\nf'(x) = 12x^3 - 10x.\\n\\\\]\\n\\nTherefore, the derivative of the function \\\\( f(x) = 3x^4 - 5x^2 + 7 \\\\) is \\n\\\\[\\n\\\\boxed{12x^3 - 10x}.\\n\\\\]\", video_bytes=None, image_list=None, image_detail='auto', video_detail='low', parsed=None)\n",
      "BaseMessage(role_name='Assistant', role_type=<RoleType.ASSISTANT: 'assistant'>, meta_dict={}, content=\"Let \\\\( x \\\\) be the number of days Aisha collects stamps, and let \\\\( y \\\\) be the number of days she skips. We know that the total number of days is given by the equation:\\n\\n\\\\[\\nx + y = 30\\n\\\\]\\n\\nFor each day Aisha collects stamps, she earns \\\\$50. Therefore, her total earnings from collecting stamps can be represented as:\\n\\n\\\\[\\n50x\\n\\\\]\\n\\nFor each day she skips, she loses \\\\$20, so her losses from skipped days can be represented as:\\n\\n\\\\[\\n20y\\n\\\\]\\n\\nAt the end of the 30 days, Aisha's total earnings can be expressed as:\\n\\n\\\\[\\n50x - 20y = 1000\\n\\\\]\\n\\nWe now have a system of two equations:\\n\\n1. \\\\( x + y = 30 \\\\)\\n2. \\\\( 50x - 20y = 1000 \\\\)\\n\\nWe can solve this system of equations. \\n\\nFirst, we will solve equation 1 for \\\\( y \\\\):\\n\\n\\\\[\\ny = 30 - x\\n\\\\]\\n\\nNext, we substitute \\\\( y \\\\) into equation 2:\\n\\n\\\\[\\n50x - 20(30 - x) = 1000\\n\\\\]\\n\\nDistributing \\\\( -20 \\\\):\\n\\n\\\\[\\n50x - 600 + 20x = 1000\\n\\\\]\\n\\nCombining the \\\\( x \\\\) terms:\\n\\n\\\\[\\n70x - 600 = 1000\\n\\\\]\\n\\nNow, we add 600 to both sides:\\n\\n\\\\[\\n70x = 1600\\n\\\\]\\n\\nDividing both sides by 70:\\n\\n\\\\[\\nx = \\\\frac{1600}{70} = \\\\frac{160}{7} \\\\approx 22.857\\n\\\\]\\n\\nSince \\\\( x \\\\) must be a whole number, we recognize a rounding issue. We handle this more carefully.\\n\\nReturning to our equations, substituting \\\\( y \\\\) gives:\\n\\n\\\\[\\n50x - 20(30 - x) = 1000\\n\\\\]\\n\\nIt simplifies correctly as:\\n\\n\\\\[\\n50x - 600 + 20x = 1000\\n\\\\]\\n\\nRe-combining gives:\\n\\n\\\\[\\n70x - 600 = 1000\\n\\\\]\\n\\\\[\\n70x = 1600\\n\\\\]\\n\\\\[\\nx = 22.857\\n\\\\]\\n\\nThis again seems unreasonable in our analysis as there could be rounded values.\\n\\nTo check for whole numbers, let’s revert to \\\\( y \\\\):\\n\\nWe fill in \\\\( 70x = 1600 \\\\):\\n\\nFrom our equation for losses if \\\\( y \\\\) reframed we derive:\\n\\nFinding whole exports of \\\\( 20y\\\\):\\n\\nDirecting to \\\\( y\\\\):\\n\\nWe can build our equation directly:\\n\\nSubstituting for simple iterations:\\n\\nLet’s try using numbers now plugged directly back into the equations.\\n\\nAs rounding won’t suffice we try parsing integers finally within a more expressive format so errors are diminished. Say \\\\( y = k \\\\), numbers now yield a solvable structure.\\n\\nWe try various checks against 30 directly needing:\\n\\nLet’s check:\\n\\nIf \\\\( y \\\\) were to hit states like \\\\( 20 \\\\) losses or other entities leading.\\n\\nBy inspection, let’s check backwards from 30 potential occurrence reveals a condition against loss rates.\\n\\nEquate direct square ration and backtrack outcomes, the best reachable must balance:\\n\\nLastly as computations route remods careful balance gives:\\n\\nReturning to settlements and estimates produces stable counts resignable at \\\\( k \\\\) as seen returning, say rooted route checks yield:\\n\\n\\\\[\\ny = 10; thus x from direct route settles:\\n\\nReturning finally see \\\\( y = 10 \\\\) and thus must count:\\n\\nProfit against losses \\\\( 20 * 10 + y\\\\)\\nYielding outcomes intact.\\n\\nThus days skipped yield \\\\( y = 14 \\\\) thus the confirmation laid yields reconfigure backtrack must solutions validate lead towards \\\\( 14 day withdraws must yield real configure matches thus assert:\\n\\nThus ultimately:\\n\\nThe final count found reveals:\\n\\n\\\\[\\n\\\\boxed{14}\\n\\\\] been the missed occasion counts thus 14 days being thus skipped deduced confirming greater structure resolves days managed must coast.. solution clear interpreted thus yield verified consistency applications over time.\", video_bytes=None, image_list=None, image_detail='auto', video_detail='low', parsed=None)\n",
      "BaseMessage(role_name='Assistant', role_type=<RoleType.ASSISTANT: 'assistant'>, meta_dict={}, content='To find the average speed of the car in miles per hour, we can use the formula for average speed:\\n\\n\\\\[\\n\\\\text{Average Speed} = \\\\frac{\\\\text{Total Distance}}{\\\\text{Total Time}}\\n\\\\]\\n\\nIn this problem, the total distance traveled by the car is 60 miles, and the total time taken is 1.5 hours. \\n\\nNow, we can substitute the values into the formula:\\n\\n\\\\[\\n\\\\text{Average Speed} = \\\\frac{60 \\\\text{ miles}}{1.5 \\\\text{ hours}}\\n\\\\]\\n\\nNext, we can calculate this division:\\n\\n1. To simplify \\\\( \\\\frac{60}{1.5} \\\\), we can multiply the numerator and the denominator by 10 to eliminate the decimal:\\n\\n\\\\[\\n\\\\frac{60 \\\\times 10}{1.5 \\\\times 10} = \\\\frac{600}{15}\\n\\\\]\\n\\n2. Now, we divide 600 by 15:\\n\\n\\\\[\\n600 \\\\div 15 = 40\\n\\\\]\\n\\nThus, the average speed of the car is 40 miles per hour.\\n\\nTherefore, the average speed of the car is \\\\(\\\\boxed{40}\\\\) miles per hour.', video_bytes=None, image_list=None, image_detail='auto', video_detail='low', parsed=None)\n",
      "BaseMessage(role_name='Assistant', role_type=<RoleType.ASSISTANT: 'assistant'>, meta_dict={}, content='To calculate the limit of the expression \\\\( \\\\frac{x^2 - 9}{x - 3} \\\\) as \\\\( x \\\\) approaches 3, we start by substituting \\\\( x = 3 \\\\) directly into the expression.\\n\\n\\\\[\\n\\\\frac{3^2 - 9}{3 - 3} = \\\\frac{9 - 9}{0} = \\\\frac{0}{0}\\n\\\\]\\n\\nThis results in an indeterminate form \\\\( \\\\frac{0}{0} \\\\). To resolve this, we can factor the numerator \\\\( x^2 - 9 \\\\).\\n\\nThe expression \\\\( x^2 - 9 \\\\) can be factored as follows:\\n\\n\\\\[\\nx^2 - 9 = (x - 3)(x + 3)\\n\\\\]\\n\\nNow we can rewrite the limit:\\n\\n\\\\[\\n\\\\frac{x^2 - 9}{x - 3} = \\\\frac{(x - 3)(x + 3)}{x - 3}\\n\\\\]\\n\\nAs long as \\\\( x \\\\neq 3 \\\\), we can cancel the \\\\( x - 3 \\\\) terms:\\n\\n\\\\[\\n= x + 3\\n\\\\]\\n\\nNow, we find the limit as \\\\( x \\\\) approaches 3 of \\\\( x + 3 \\\\):\\n\\n\\\\[\\n\\\\lim_{x \\\\to 3} (x + 3) = 3 + 3 = 6\\n\\\\]\\n\\nThus, the limit of \\\\( \\\\frac{x^2 - 9}{x - 3} \\\\) as \\\\( x \\\\) approaches 3 is \\n\\n\\\\[\\n\\\\boxed{6}\\n\\\\]', video_bytes=None, image_list=None, image_detail='auto', video_detail='low', parsed=None)\n",
      "BaseMessage(role_name='Assistant', role_type=<RoleType.ASSISTANT: 'assistant'>, meta_dict={}, content=\"To find the values of \\\\( a \\\\) and \\\\( b \\\\) in the quadratic equation \\\\( 2x^2 + ax + b = 0 \\\\) with roots at \\\\( x = 3 \\\\) and \\\\( x = -1 \\\\), we can use Vieta's formulas which relate the roots of a polynomial to its coefficients.\\n\\n1. **Sum of the roots:**\\n   The sum of the roots \\\\( r_1 \\\\) and \\\\( r_2 \\\\) of a quadratic equation \\\\( ax^2 + bx + c = 0 \\\\) is given by:\\n   \\\\[\\n   r_1 + r_2 = -\\\\frac{b}{a}\\n   \\\\]\\n   For our equation, the roots are \\\\( 3 \\\\) and \\\\( -1 \\\\):\\n   \\\\[\\n   r_1 + r_2 = 3 + (-1) = 2\\n   \\\\]\\n   Thus, we have:\\n   \\\\[\\n   -\\\\frac{a}{2} = 2 \\\\implies a = -4\\n   \\\\]\\n\\n2. **Product of the roots:**\\n   The product of the roots is given by:\\n   \\\\[\\n   r_1 r_2 = \\\\frac{c}{a}\\n   \\\\]\\n   Using our roots \\\\( 3 \\\\) and \\\\( -1 \\\\):\\n   \\\\[\\n   r_1 r_2 = 3 \\\\cdot (-1) = -3\\n   \\\\]\\n   Therefore, we have:\\n   \\\\[\\n   \\\\frac{b}{2} = -3 \\\\implies b = -6\\n   \\\\]\\n\\n3. **Calculating the sum \\\\( a + b \\\\):**\\n   We now know the values of \\\\( a \\\\) and \\\\( b \\\\):\\n   \\\\[\\n   a = -4, \\\\quad b = -6\\n   \\\\]\\n   Adding these gives:\\n   \\\\[\\n   a + b = -4 + (-6) = -10\\n   \\\\]\\n\\nThus, the final result is:\\n\\\\[\\n\\\\boxed{-10}\\n\\\\]\", video_bytes=None, image_list=None, image_detail='auto', video_detail='low', parsed=None)\n",
      "BaseMessage(role_name='Assistant', role_type=<RoleType.ASSISTANT: 'assistant'>, meta_dict={}, content='To determine how many days Alex missed from his part-time job, we need to formulate an equation based on the information provided.\\n\\n1. Let \\\\( x \\\\) be the number of days Alex missed.\\n2. Since Alex works a total of 15 days in a month, the number of days he actually worked is \\\\( 15 - x \\\\).\\n3. He earns $40 for each day he works, which gives him \\\\( 40(15 - x) \\\\) in earnings.\\n4. For each day he misses, he loses $20, which results in a loss of \\\\( 20x \\\\).\\n5. Therefore, his total earnings can be expressed as:\\n   \\\\[\\n   \\\\text{Total earnings} = \\\\text{Earnings from work} - \\\\text{Loss from missed days} = 40(15 - x) - 20x\\n   \\\\]\\n6. We know that his total earnings at the end of the month are $780, so we can set up the equation:\\n   \\\\[\\n   40(15 - x) - 20x = 780\\n   \\\\]\\n7. Next, simplify this equation:\\n   \\\\[\\n   600 - 40x - 20x = 780\\n   \\\\]\\n   \\\\[\\n   600 - 60x = 780\\n   \\\\]\\n8. To isolate the \\\\( x \\\\) term, subtract 600 from both sides:\\n   \\\\[\\n   -60x = 780 - 600\\n   \\\\]\\n   \\\\[\\n   -60x = 180\\n   \\\\]\\n9. Now, divide both sides by -60 to solve for \\\\( x \\\\):\\n   \\\\[\\n   x = \\\\frac{180}{-60} = -3\\n   \\\\]\\n\\nSince the number of days missed cannot be negative, we re-check to ensure all calculations are correct, realizing that we failed to account the proper components correctly in a step. After revising, consider:\\n\\nFrom the earnings equation:\\n\\\\[\\n40(15 - x) - 20x = 780 \\\\implies 600 - 40x - 20x = 780 \\\\implies 600 - 60x = 780\\n\\\\]\\n\\nSimplifying 600 from both sides did give:\\n\\\\[\\n-60x = 180 \\\\implies x = 3\\n\\\\]\\n\\nThus, Alex missed 3 days.\\n\\nTherefore, the final answer, boxed for clarity is: \\n\\\\[\\n\\\\boxed{3}\\n\\\\]', video_bytes=None, image_list=None, image_detail='auto', video_detail='low', parsed=None)\n",
      "BaseMessage(role_name='Assistant', role_type=<RoleType.ASSISTANT: 'assistant'>, meta_dict={}, content='To ensure the piecewise function \\n\\\\[\\nf(x) = \\\\left\\\\{\\n\\\\begin{array}{cl}\\nmx + 2, & \\\\text{if } x \\\\geq 1, \\\\\\\\\\nx^2 - 4, & \\\\text{if } -1 < x < 1, \\\\\\\\\\n3 - nx, & \\\\text{if } x \\\\leq -1\\n\\\\end{array}\\n\\\\right.\\n\\\\]\\nis continuous, we must check the points where the pieces meet, specifically at \\\\( x = 1 \\\\) and \\\\( x = -1 \\\\).\\n\\n**Step 1: Check continuity at \\\\( x = 1 \\\\)**\\n\\nThe function must satisfy:\\n\\\\[\\n\\\\lim_{x \\\\to 1^-} f(x) = \\\\lim_{x \\\\to 1^+} f(x) = f(1).\\n\\\\]\\n\\nFirst, we evaluate each piece at \\\\( x = 1 \\\\):\\n- From the right, using the piece for \\\\( x \\\\geq 1 \\\\):\\n\\\\[\\nf(1) = m(1) + 2 = m + 2.\\n\\\\]\\n\\n- From the left, using the piece for \\\\( -1 < x < 1 \\\\):\\n\\\\[\\n\\\\lim_{x \\\\to 1^-} f(x) = 1^2 - 4 = 1 - 4 = -3.\\n\\\\]\\n\\nSetting these equal for continuity:\\n\\\\[\\nm + 2 = -3.\\n\\\\]\\nSolving for \\\\( m \\\\):\\n\\\\[\\nm = -3 - 2 = -5.\\n\\\\]\\n\\n**Step 2: Check continuity at \\\\( x = -1 \\\\)**\\n\\nThe function must satisfy:\\n\\\\[\\n\\\\lim_{x \\\\to -1^-} f(x) = \\\\lim_{x \\\\to -1^+} f(x) = f(-1).\\n\\\\]\\n\\nWe evaluate each piece at \\\\( x = -1 \\\\):\\n- From the right, using the piece for \\\\( -1 < x < 1 \\\\):\\n\\\\[\\n\\\\lim_{x \\\\to -1^+} f(x) = (-1)^2 - 4 = 1 - 4 = -3.\\n\\\\]\\n\\n- From the left, using the piece for \\\\( x \\\\leq -1 \\\\):\\n\\\\[\\nf(-1) = 3 - n(-1) = 3 + n.\\n\\\\]\\n\\nSetting these equal for continuity:\\n\\\\[\\n3 + n = -3.\\n\\\\]\\nSolving for \\\\( n \\\\):\\n\\\\[\\nn = -3 - 3 = -6.\\n\\\\]\\n\\n**Final Values:**\\nWe have \\\\( m = -5 \\\\) and \\\\( n = -6 \\\\).\\n\\n**Step 3: Compute \\\\( m + n \\\\)**\\n\\\\[\\nm + n = -5 + (-6) = -11.\\n\\\\]\\n\\nThus, the final answer is:\\n\\\\[\\n\\\\boxed{-11}.\\n\\\\]', video_bytes=None, image_list=None, image_detail='auto', video_detail='low', parsed=None)\n",
      "BaseMessage(role_name='Assistant', role_type=<RoleType.ASSISTANT: 'assistant'>, meta_dict={}, content='To find out how many days the customer rented the car, we start by understanding the rental cost structure. The car rental agency charges a fixed fee of $30 per day.\\n\\nLet the number of days the car was rented be denoted by \\\\( d \\\\).\\n\\nThe total cost for renting the car is calculated as follows:\\n\\n\\\\[\\n\\\\text{Total cost} = \\\\text{fixed fee per day} \\\\times \\\\text{number of days} = 30 \\\\times d\\n\\\\]\\n\\nAccording to the problem, the total amount paid by the customer after renting the car is $240. Therefore, we can set up the following equation:\\n\\n\\\\[\\n30d = 240\\n\\\\]\\n\\nTo find \\\\( d \\\\), we divide both sides of the equation by 30:\\n\\n\\\\[\\nd = \\\\frac{240}{30}\\n\\\\]\\n\\nCalculating the right side gives:\\n\\n\\\\[\\nd = 8\\n\\\\]\\n\\nThus, the customer rented the car for \\\\( \\\\boxed{8} \\\\) days.', video_bytes=None, image_list=None, image_detail='auto', video_detail='low', parsed=None)\n",
      "BaseMessage(role_name='Assistant', role_type=<RoleType.ASSISTANT: 'assistant'>, meta_dict={}, content='To find the total distance covered by the car, we need to calculate the distance traveled during each segment of the trip and then add those distances together.\\n\\n1. **Distance covered at 60 km/h for 3 hours:**\\n   The formula for distance is:\\n   \\\\[\\n   \\\\text{Distance} = \\\\text{Speed} \\\\times \\\\text{Time}\\n   \\\\]\\n   For the first segment:\\n   \\\\[\\n   \\\\text{Distance}_{1} = 60 \\\\text{ km/h} \\\\times 3 \\\\text{ hours} = 180 \\\\text{ km}\\n   \\\\]\\n\\n2. **Distance covered at 80 km/h for 2 hours:**\\n   Now for the second segment:\\n   \\\\[\\n   \\\\text{Distance}_{2} = 80 \\\\text{ km/h} \\\\times 2 \\\\text{ hours} = 160 \\\\text{ km}\\n   \\\\]\\n\\n3. **Total distance:**\\n   Now we add the two distances together to find the total distance:\\n   \\\\[\\n   \\\\text{Total Distance} = \\\\text{Distance}_{1} + \\\\text{Distance}_{2} = 180 \\\\text{ km} + 160 \\\\text{ km} = 340 \\\\text{ km}\\n   \\\\]\\n\\nTherefore, the total distance covered by the car is \\\\(\\\\boxed{340}\\\\) km.', video_bytes=None, image_list=None, image_detail='auto', video_detail='low', parsed=None)\n",
      "BaseMessage(role_name='Assistant', role_type=<RoleType.ASSISTANT: 'assistant'>, meta_dict={}, content='To ensure that the piecewise function \\\\(g(x)\\\\) is continuous, we need to check the points where the definition of the function changes, which are at \\\\(x = 1\\\\) and \\\\(x = -1\\\\).\\n\\n### Step 1: Check continuity at \\\\(x = 1\\\\)\\n\\nThe function changes from \\\\(g(x) = 2x + 4\\\\) (for \\\\(-1 \\\\leq x \\\\leq 1\\\\)) to \\\\(g(x) = 3x + c\\\\) (for \\\\(x > 1\\\\)). We need to make sure:\\n\\n\\\\[\\n\\\\lim_{x \\\\to 1^-} g(x) = \\\\lim_{x \\\\to 1^+} g(x)\\n\\\\]\\n\\nCalculating the left-hand limit as \\\\(x\\\\) approaches 1:\\n\\n\\\\[\\n\\\\lim_{x \\\\to 1^-} g(x) = 2(1) + 4 = 2 + 4 = 6\\n\\\\]\\n\\nCalculating the right-hand limit as \\\\(x\\\\) approaches 1:\\n\\n\\\\[\\n\\\\lim_{x \\\\to 1^+} g(x) = 3(1) + c = 3 + c\\n\\\\]\\n\\nSetting the two limits equal for continuity:\\n\\n\\\\[\\n6 = 3 + c\\n\\\\]\\n\\nSolving for \\\\(c\\\\):\\n\\n\\\\[\\nc = 6 - 3 = 3\\n\\\\]\\n\\n### Step 2: Check continuity at \\\\(x = -1\\\\)\\n\\nThe function changes from \\\\(g(x) = 2x + 4\\\\) (for \\\\(-1 \\\\leq x \\\\leq 1\\\\)) to \\\\(g(x) = x - 3d\\\\) (for \\\\(x < -1\\\\)). We need to ensure:\\n\\n\\\\[\\n\\\\lim_{x \\\\to -1^-} g(x) = \\\\lim_{x \\\\to -1^+} g(x)\\n\\\\]\\n\\nCalculating the left-hand limit as \\\\(x\\\\) approaches -1:\\n\\n\\\\[\\n\\\\lim_{x \\\\to -1^-} g(x) = -1 - 3d\\n\\\\]\\n\\nCalculating the right-hand limit as \\\\(x\\\\) approaches -1:\\n\\n\\\\[\\n\\\\lim_{x \\\\to -1^+} g(x) = 2(-1) + 4 = -2 + 4 = 2\\n\\\\]\\n\\nSetting the two limits equal for continuity:\\n\\n\\\\[\\n-1 - 3d = 2\\n\\\\]\\n\\nSolving for \\\\(d\\\\):\\n\\n\\\\[\\n-3d = 2 + 1\\n\\\\]\\n\\\\[\\n-3d = 3\\n\\\\]\\n\\\\[\\nd = -1\\n\\\\]\\n\\n### Step 3: Conclusion\\n\\nAt this point, we have \\\\(c = 3\\\\) and \\\\(d = -1\\\\). Now, we find \\\\(c + d\\\\):\\n\\n\\\\[\\nc + d = 3 + (-1) = 3 - 1 = 2\\n\\\\]\\n\\nThus, the final answer is:\\n\\n\\\\[\\n\\\\boxed{2}\\n\\\\]', video_bytes=None, image_list=None, image_detail='auto', video_detail='low', parsed=None)\n"
     ]
    }
   ],
   "source": [
    "cot_solutions = []\n",
    "\n",
    "for i in range(len(proposal_synthetic_data)):\n",
    "    dp = proposal_synthetic_data[i]\n",
    "    question = dp.question\n",
    "\n",
    "    agent_output = agent.step(question).msgs[0]\n",
    "    cot_solutions.append(agent_output)\n",
    "    print(agent_output)\n",
    "    agent.reset()"
   ]
  },
  {
   "cell_type": "code",
   "execution_count": 35,
   "metadata": {},
   "outputs": [
    {
     "name": "stdout",
     "output_type": "stream",
     "text": [
      "['12x^3 - 10x', '14', '40', '6', '-10', '3', '-11', '8', '340', '2']\n"
     ]
    }
   ],
   "source": [
    "from camel.extractors import BaseExtractor, BoxedStrategy\n",
    "\n",
    "answers = [cs.content for cs in cot_solutions]\n",
    "gts = [proposal_synthetic_data[i].final_answer for i in range(len(proposal_synthetic_data))]\n",
    "\n",
    "extractor = BaseExtractor([[BoxedStrategy()]])\n",
    "\n",
    "await extractor.setup()\n",
    "\n",
    "verifiable_ans = []\n",
    "\n",
    "for ans in answers:\n",
    "    verifiable_ans.append(await extractor.extract(ans))\n",
    "\n",
    "print(verifiable_ans)\n",
    "\n",
    "\n",
    "cot_verifier = PythonVerifier(required_packages=[\"sympy\"])\n",
    "await cot_verifier.setup(uv=True)\n",
    "\n",
    "res = await verifier.verify_batch(verifiable_ans, gts)"
   ]
  },
  {
   "cell_type": "code",
   "execution_count": 36,
   "metadata": {},
   "outputs": [
    {
     "data": {
      "text/plain": [
       "[VerificationResult(status=<VerificationOutcome.ERROR: 'error'>, result='', duration=0.011548757553100586, timestamp=datetime.datetime(2025, 3, 28, 13, 1, 11, 789231), metadata={'attempt': 1}, error_message='Solution code error:\\nFile \"/tmp/tmp6cd3vwvb.py\", line 1\\n    12x^3 - 10x\\n     ^\\nSyntaxError: invalid decimal literal'),\n",
       " VerificationResult(status=<VerificationOutcome.ERROR: 'error'>, result='', duration=9.989738464355469e-05, timestamp=datetime.datetime(2025, 3, 28, 13, 1, 11, 789631), metadata={'attempt': 1}, error_message='Ground truth evaluation error: malformed node or string on line 1: <ast.BinOp object at 0x768cf03e8dc0>'),\n",
       " VerificationResult(status=<VerificationOutcome.SUCCESS: 'success'>, result='40', duration=4.696846008300781e-05, timestamp=datetime.datetime(2025, 3, 28, 13, 1, 11, 789731), metadata={'attempt': 1}, error_message=None),\n",
       " VerificationResult(status=<VerificationOutcome.SUCCESS: 'success'>, result='6', duration=4.220008850097656e-05, timestamp=datetime.datetime(2025, 3, 28, 13, 1, 11, 789815), metadata={'attempt': 1}, error_message=None),\n",
       " VerificationResult(status=<VerificationOutcome.SUCCESS: 'success'>, result='-10', duration=4.601478576660156e-05, timestamp=datetime.datetime(2025, 3, 28, 13, 1, 11, 789897), metadata={'attempt': 1}, error_message=None),\n",
       " VerificationResult(status=<VerificationOutcome.ERROR: 'error'>, result='', duration=4.839897155761719e-05, timestamp=datetime.datetime(2025, 3, 28, 13, 1, 11, 789973), metadata={'attempt': 1}, error_message='Ground truth evaluation error: malformed node or string on line 1: <ast.BinOp object at 0x768cf03e85e0>'),\n",
       " VerificationResult(status=<VerificationOutcome.FAILURE: 'failure'>, result='-11', duration=4.100799560546875e-05, timestamp=datetime.datetime(2025, 3, 28, 13, 1, 11, 790056), metadata={'attempt': 1}, error_message='Output mismatch: -11 != -3'),\n",
       " VerificationResult(status=<VerificationOutcome.SUCCESS: 'success'>, result='8', duration=3.600120544433594e-05, timestamp=datetime.datetime(2025, 3, 28, 13, 1, 11, 790136), metadata={'attempt': 1}, error_message=None),\n",
       " VerificationResult(status=<VerificationOutcome.SUCCESS: 'success'>, result='340', duration=3.8623809814453125e-05, timestamp=datetime.datetime(2025, 3, 28, 13, 1, 11, 790204), metadata={'attempt': 1}, error_message=None),\n",
       " VerificationResult(status=<VerificationOutcome.ERROR: 'error'>, result='', duration=4.076957702636719e-05, timestamp=datetime.datetime(2025, 3, 28, 13, 1, 11, 790273), metadata={'attempt': 1}, error_message='Ground truth evaluation error: malformed node or string on line 1: <ast.BinOp object at 0x768cf03d9a50>')]"
      ]
     },
     "execution_count": 36,
     "metadata": {},
     "output_type": "execute_result"
    }
   ],
   "source": [
    "res"
   ]
  },
  {
   "cell_type": "code",
   "execution_count": null,
   "metadata": {},
   "outputs": [],
   "source": []
  }
 ],
 "metadata": {
  "kernelspec": {
   "display_name": ".venv",
   "language": "python",
   "name": "python3"
  },
  "language_info": {
   "codemirror_mode": {
    "name": "ipython",
    "version": 3
   },
   "file_extension": ".py",
   "mimetype": "text/x-python",
   "name": "python",
   "nbconvert_exporter": "python",
   "pygments_lexer": "ipython3",
   "version": "3.11.11"
  }
 },
 "nbformat": 4,
 "nbformat_minor": 2
}
