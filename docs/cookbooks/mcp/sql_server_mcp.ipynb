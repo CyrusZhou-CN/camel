{
  "cells": [
    {
      "cell_type": "markdown",
      "metadata": {
        "id": "ymsq1Lw0VEqT"
      },
      "source": [
        "#  CAMEL Cookbook: SQL MCP Server"
      ]
    },
    {
      "cell_type": "markdown",
      "metadata": {
        "id": "7V3aV16AmY0K"
      },
      "source": [
        "You can also check this cookbook in colab [here](https://colab.research.google.com/drive/1fZHCfDqEEseewSZ2TQSJiAA3il9VT4ut?usp=sharing) "
      ]
    },
    {
      "cell_type": "markdown",
      "metadata": {
        "id": "UvHRdXwflAz-"
      },
      "source": [
        "<div class=\"align-center\">\n",
        "  <a href=\"https://www.camel-ai.org/\"><img src=\"https://i.postimg.cc/KzQ5rfBC/button.png\"width=\"150\"></a>\n",
        "  <a href=\"https://discord.camel-ai.org\"><img src=\"https://i.postimg.cc/L4wPdG9N/join-2.png\"  width=\"150\"></a></a>\n",
        "  \n",
        "⭐ <i>Star us on [*Github*](https://github.com/camel-ai/camel), join our [*Discord*](https://discord.camel-ai.org) or follow our [*X*](https://x.com/camelaiorg)\n",
        "</div>"
      ]
    },
    {
      "cell_type": "markdown",
      "metadata": {},
      "source": [
        "### Note on MCP Server Implementation\n",
        "\n",
        "There are *two approaches* to implementing an **MCP server**:\n",
        "\n",
        "- **TypeScript with JSON Config:**\n",
        "This approach is typically used with npm-based clients (such as Cursor or Claude Desktop), where a config.json file is used to configure and connect to the server.\n",
        "\n",
        "- **Python SDK Approach:**\n",
        "    In this notebook, we use the Python SDK. Here, you write the MCP server in Python and connect directly without a config.json file."
      ]
    },
    {
      "cell_type": "markdown",
      "metadata": {
        "id": "G5gE04UuPUWj"
      },
      "source": [
        "This notebook demonstrates how to set up and leverage CAMEL's MCP toolkit to create a natural language interface for SQL database operations.\n",
        "\n",
        "In this notebook, you'll explore:\n",
        "* **CAMEL**: A multi-agent framework enabling sophisticated AI-driven tasks\n",
        "* **MCP Server**: Custom tools for SQL database operations (querying, listing tables, schema exploration)\n",
        "* **SQLite Integration**: Practical database implementation with sample data\n",
        "* **Claude LLM**: Natural language understanding and query translation\n",
        "\n",
        "This setup serves as a flexible framework adaptable for various scenarios requiring database access through natural language."
      ]
    },
    {
      "cell_type": "markdown",
      "metadata": {
        "id": "0J0_iW-YVcq2"
      },
      "source": [
        "## 📦 Installation"
      ]
    },
    {
      "cell_type": "markdown",
      "metadata": {
        "id": "7p-JjpyNVcCT"
      },
      "source": [
        "First, install the CAMEL package with all its dependencies:"
      ]
    },
    {
      "cell_type": "code",
      "execution_count": null,
      "metadata": {
        "collapsed": true,
        "id": "0GXs2pruU9Vl"
      },
      "outputs": [],
      "source": [
        "%pip install \"camel-ai[all]==0.2.31\""
      ]
    },
    {
      "cell_type": "markdown",
      "metadata": {
        "id": "lfNvFbhD6o8B"
      },
      "source": [
        "## 🔑 Setting Up API Keys"
      ]
    },
    {
      "cell_type": "markdown",
      "metadata": {
        "id": "jqV12oQfQTyl"
      },
      "source": [
        "You'll need to set up your API keys for **Anthropic**"
      ]
    },
    {
      "cell_type": "code",
      "execution_count": null,
      "metadata": {
        "colab": {
          "base_uri": "https://localhost:8080/"
        },
        "id": "HQ_yOT5_Hyt4",
        "outputId": "8e82dbad-55f1-4adb-a06d-73570f356766"
      },
      "outputs": [
        {
          "name": "stdout",
          "output_type": "stream",
          "text": [
            "Enter your API key: ··········\n"
          ]
        }
      ],
      "source": [
        "import os\n",
        "from getpass import getpass\n",
        "\n",
        "# Prompt for the API key securely\n",
        "anthropic_api_key = getpass('Enter your API key: ')\n",
        "os.environ[\"ANTHROPIC_API_KEY\"] = anthropic_api_key"
      ]
    },
    {
      "cell_type": "markdown",
      "metadata": {},
      "source": [
        "## Understanding MCP in CAMEL\n",
        "\n",
        "MCP (Model Control Protocol) is a key feature in CAMEL,`MCPToolkit` class allows language models to interact with external tools and services. In this cookbook, we'll create an MCP server that provides SQL database capabilities to Claude through CAMEL.\n",
        "\n",
        "Our MCP server will support the following operations:\n",
        "- Creating SQLite databases\n",
        "- Listing tables in a database\n",
        "- Describing table schemas\n",
        "- Executing SQL queries (SELECT, INSERT, UPDATE, DELETE)\n",
        "\n",
        "Let's start by creating our SQL MCP server"
      ]
    },
    {
      "cell_type": "markdown",
      "metadata": {},
      "source": [
        "## Building the SQL MCP Server\n",
        "\n",
        "Now we'll build our SQL MCP server. This server will expose tools for database operations that our CAMEL agent can use. Let's create our server file:"
      ]
    },
    {
      "cell_type": "code",
      "execution_count": null,
      "metadata": {},
      "outputs": [],
      "source": [
        "# SQL MCP Server for CAMEL\n",
        "\n",
        "import os\n",
        "import asyncio  # noqa: F401\n",
        "import sqlite3\n",
        "import json\n",
        "from mcp.server.fastmcp import FastMCP # type: ignore\n",
        "from camel.logger import get_logger # type: ignore\n",
        "\n",
        "logger = get_logger(__name__) # initiating logger\n",
        "mcp = FastMCP(\"sqldb\") # create a new instance of FastMCP with name sqldb"
      ]
    },
    {
      "cell_type": "markdown",
      "metadata": {},
      "source": [
        "The code above sets up the basic structure for our MCP server. We:\n",
        "\n",
        "1. Import necessary libraries\n",
        "2. Set up logging\n",
        "3. Initialize the MCP server with the name \"sqldb\""
      ]
    },
    {
      "cell_type": "markdown",
      "metadata": {
        "id": "46Irp_SurLaV"
      },
      "source": [
        "### Adding Database Query Tool\n",
        "Now let's add our first tool - the ability to execute SQL queries:"
      ]
    },
    {
      "cell_type": "code",
      "execution_count": 3,
      "metadata": {
        "id": "gE_qBFCVveBR"
      },
      "outputs": [],
      "source": [
        "# Add to sql_server_mcp.py\n",
        "@mcp.tool()\n",
        "async def execute_query(connection_string: str, query: str) -> str:\n",
        "    r\"\"\"Executes the SQL query on the given database.\n",
        "    Args:\n",
        "        connection_string (str): The connection string or path to the SQLite database.\n",
        "        query (str): The SQL query to execute.\n",
        "    Returns:\n",
        "        str: The result of the query as a JSON string, or an error message if execution fails.\n",
        "    \"\"\"\n",
        "    logger.info(f\"execute_query triggered with connection_string: {connection_string}\")\n",
        "    # For security reasons, don't log the full query in production\n",
        "    logger.info(f\"Query starts with: {query[:20]}...\")\n",
        "    \n",
        "    try:\n",
        "        # For this example, we'll use SQLite which just takes a file path\n",
        "        conn = sqlite3.connect(connection_string)\n",
        "        cursor = conn.cursor()\n",
        "        \n",
        "        # Execute the query\n",
        "        cursor.execute(query)\n",
        "        \n",
        "        # Check if this is a SELECT query (has results to fetch)\n",
        "        if query.strip().upper().startswith(\"SELECT\"):\n",
        "            # Get column names from cursor description\n",
        "            columns = [desc[0] for desc in cursor.description]\n",
        "            \n",
        "            # Fetch results and format as a list of dictionaries\n",
        "            results = []\n",
        "            for row in cursor.fetchall():\n",
        "                results.append(dict(zip(columns, row)))\n",
        "            \n",
        "            conn.close()\n",
        "            return json.dumps(results, indent=2)\n",
        "        else:\n",
        "            # For INSERT, UPDATE, DELETE, etc.\n",
        "            conn.commit()\n",
        "            affected_rows = cursor.rowcount\n",
        "            conn.close()\n",
        "            return json.dumps({\"affected_rows\": affected_rows}, indent=2)\n",
        "    \n",
        "    except Exception as e:\n",
        "        return f\"Error executing SQL query: {e}\"\n",
        "\n",
        "execute_query.inputSchema = {\n",
        "    \"type\": \"object\",\n",
        "    \"properties\": {\n",
        "         \"connection_string\": {\n",
        "             \"type\": \"string\",\n",
        "             \"title\": \"Connection String\",\n",
        "             \"description\": \"The connection string or path to the SQLite database.\"\n",
        "         },\n",
        "         \"query\": {\n",
        "             \"type\": \"string\",\n",
        "             \"title\": \"SQL Query\",\n",
        "             \"description\": \"The SQL query to execute.\"\n",
        "         }\n",
        "    },\n",
        "    \"required\": [\"connection_string\", \"query\"]\n",
        "}"
      ]
    },
    {
      "cell_type": "markdown",
      "metadata": {},
      "source": [
        "\n",
        "This tool handles:\n",
        "\n",
        "- Connecting to a SQLite database\n",
        "- Executing a SQL query\n",
        "- Handling different types of queries (SELECT vs. non-SELECT)\n",
        "- Formatting results as JSON\n",
        "- Error handling\n",
        "\n",
        "The `inputSchema` defines the required parameters and provides descriptions that help the LLM understand how to use the tool."
      ]
    },
    {
      "cell_type": "markdown",
      "metadata": {},
      "source": [
        "### Adding List Tables Tool\n",
        "\n",
        "Next, let's add a tool to list all tables in a database:"
      ]
    },
    {
      "cell_type": "code",
      "execution_count": 4,
      "metadata": {},
      "outputs": [],
      "source": [
        "# Add to sql_server_mcp.py\n",
        "@mcp.tool()\n",
        "async def list_tables(connection_string: str) -> str:\n",
        "    r\"\"\"Lists all tables in the specified database.\n",
        "    Args:\n",
        "        connection_string (str): The connection string or path to the SQLite database.\n",
        "    Returns:\n",
        "        str: A JSON string containing the list of tables, or an error message if listing fails.\n",
        "    \"\"\"\n",
        "    logger.info(f\"list_tables triggered with connection_string: {connection_string}\")\n",
        "    \n",
        "    try:\n",
        "        # Connect to the SQLite database\n",
        "        conn = sqlite3.connect(connection_string)\n",
        "        cursor = conn.cursor()\n",
        "        \n",
        "        # Query to get all table names in SQLite\n",
        "        cursor.execute(\"SELECT name FROM sqlite_master WHERE type='table';\")\n",
        "        \n",
        "        # Fetch and format results\n",
        "        tables = [row[0] for row in cursor.fetchall()]\n",
        "        conn.close()\n",
        "        \n",
        "        return json.dumps({\"tables\": tables}, indent=2)\n",
        "    \n",
        "    except Exception as e:\n",
        "        return f\"Error listing tables: {e}\"\n",
        "\n",
        "list_tables.inputSchema = {\n",
        "    \"type\": \"object\",\n",
        "    \"properties\": {\n",
        "         \"connection_string\": {\n",
        "             \"type\": \"string\",\n",
        "             \"title\": \"Connection String\",\n",
        "             \"description\": \"The connection string or path to the SQLite database.\"\n",
        "         }\n",
        "    },\n",
        "    \"required\": [\"connection_string\"]\n",
        "}"
      ]
    },
    {
      "cell_type": "markdown",
      "metadata": {},
      "source": [
        "This tool allows the LLM to discover what tables exist in a database, which is essential for database exploration."
      ]
    },
    {
      "cell_type": "markdown",
      "metadata": {},
      "source": [
        "### Adding Database Creation Tool\n",
        "\n",
        "Now we'll add a tool to create new SQLite databases:"
      ]
    },
    {
      "cell_type": "code",
      "execution_count": 5,
      "metadata": {},
      "outputs": [],
      "source": [
        "# Add to sql_server_mcp.py\n",
        "@mcp.tool()\n",
        "async def create_database(db_path: str) -> str:\n",
        "    r\"\"\"Creates a new SQLite database at the specified path.\n",
        "    Args:\n",
        "        db_path (str): The path where the new database should be created.\n",
        "    Returns:\n",
        "        str: A success message or an error message if creation fails.\n",
        "    \"\"\"\n",
        "    logger.info(f\"create_database triggered with db_path: {db_path}\")\n",
        "    \n",
        "    try:\n",
        "        # Check if file already exists\n",
        "        if os.path.exists(db_path):\n",
        "            return f\"Database already exists at {db_path}\"\n",
        "        \n",
        "        # Create a new SQLite database by connecting to it\n",
        "        conn = sqlite3.connect(db_path)\n",
        "        conn.close()\n",
        "        \n",
        "        return json.dumps({\"status\": \"success\", \"message\": f\"Database created at {db_path}\"}, indent=2)\n",
        "    \n",
        "    except Exception as e:\n",
        "        return f\"Error creating database: {e}\"\n",
        "\n",
        "create_database.inputSchema = {\n",
        "    \"type\": \"object\",\n",
        "    \"properties\": {\n",
        "         \"db_path\": {\n",
        "             \"type\": \"string\",\n",
        "             \"title\": \"Database Path\",\n",
        "             \"description\": \"The path where the new SQLite database should be created.\"\n",
        "         }\n",
        "    },\n",
        "    \"required\": [\"db_path\"]\n",
        "}"
      ]
    },
    {
      "cell_type": "markdown",
      "metadata": {},
      "source": [
        "This simple tool creates empty SQLite databases that can later be populated with tables and data."
      ]
    },
    {
      "cell_type": "markdown",
      "metadata": {},
      "source": [
        "### Adding Table Description Tool\n",
        "\n",
        "Finally, let's add a tool to describe table schemas:"
      ]
    },
    {
      "cell_type": "code",
      "execution_count": 6,
      "metadata": {},
      "outputs": [],
      "source": [
        "# Add to sql_server_mcp.py\n",
        "@mcp.tool()\n",
        "async def describe_table(connection_string: str, table_name: str) -> str:\n",
        "    r\"\"\"Describes the schema of a specified table.\n",
        "    Args:\n",
        "        connection_string (str): The connection string or path to the SQLite database.\n",
        "        table_name (str): The name of the table to describe.\n",
        "    Returns:\n",
        "        str: A JSON string containing the table schema, or an error message if the operation fails.\n",
        "    \"\"\"\n",
        "    logger.info(f\"describe_table triggered with connection_string: {connection_string}, table_name: {table_name}\")\n",
        "    \n",
        "    try:\n",
        "        # Connect to the SQLite database\n",
        "        conn = sqlite3.connect(connection_string)\n",
        "        cursor = conn.cursor()\n",
        "        \n",
        "        # Query to get table schema in SQLite\n",
        "        cursor.execute(f\"PRAGMA table_info({table_name});\")\n",
        "        \n",
        "        # Fetch and format results\n",
        "        columns = []\n",
        "        for row in cursor.fetchall():\n",
        "            columns.append({\n",
        "                \"cid\": row[0],\n",
        "                \"name\": row[1],\n",
        "                \"type\": row[2],\n",
        "                \"notnull\": row[3],\n",
        "                \"default_value\": row[4],\n",
        "                \"pk\": row[5]\n",
        "            })\n",
        "        \n",
        "        conn.close()\n",
        "        \n",
        "        return json.dumps({\"table\": table_name, \"columns\": columns}, indent=2)\n",
        "    \n",
        "    except Exception as e:\n",
        "        return f\"Error describing table: {e}\"\n",
        "\n",
        "describe_table.inputSchema = {\n",
        "    \"type\": \"object\",\n",
        "    \"properties\": {\n",
        "         \"connection_string\": {\n",
        "             \"type\": \"string\",\n",
        "             \"title\": \"Connection String\",\n",
        "             \"description\": \"The connection string or path to the SQLite database.\"\n",
        "         },\n",
        "         \"table_name\": {\n",
        "             \"type\": \"string\",\n",
        "             \"title\": \"Table Name\",\n",
        "             \"description\": \"The name of the table to describe.\"\n",
        "         }\n",
        "    },\n",
        "    \"required\": [\"connection_string\", \"table_name\"]\n",
        "}"
      ]
    },
    {
      "cell_type": "markdown",
      "metadata": {},
      "source": [
        "This tool retrieves column details for a specified table, which helps the LLM understand the database structure before running queries.\n",
        "\n",
        "### Adding Main Function\n",
        "\n",
        "To complete our MCP server, let's add the main function:"
      ]
    },
    {
      "cell_type": "code",
      "execution_count": null,
      "metadata": {},
      "outputs": [],
      "source": [
        "# Add to sql_server_mcp.py\n",
        "def main(transport: str = \"stdio\"):\n",
        "    r\"\"\"Runs the SQL MCP Server.\n",
        "    This server provides SQL database functionalities via MCP.\n",
        "    Args:\n",
        "        transport (str): The transport mode ('stdio' or 'sse').\n",
        "    \"\"\"\n",
        "    if transport == 'stdio':\n",
        "        mcp.run(transport='stdio')\n",
        "    elif transport == 'sse':\n",
        "        mcp.run(transport='sse')\n",
        "    else:\n",
        "        print(f\"Unknown transport mode: {transport}\")\n",
        "\n",
        "if __name__ == \"__main__\":\n",
        "    import sys\n",
        "    transport_mode = sys.argv[1] if len(sys.argv) > 1 else \"stdio\"\n",
        "    main(transport_mode)"
      ]
    },
    {
      "cell_type": "markdown",
      "metadata": {},
      "source": [
        "Save this script as `sql_server_mcp.py` and run it using the command:\n",
        "```bash\n",
        "python sql_server_mcp.py\n",
        "```"
      ]
    },
    {
      "cell_type": "markdown",
      "metadata": {},
      "source": [
        "## Creating a Sample Database\n",
        "\n",
        "Now that we have our MCP server, let's create a sample database to demonstrate its capabilities:"
      ]
    },
    {
      "cell_type": "code",
      "execution_count": null,
      "metadata": {},
      "outputs": [
        {
          "name": "stdout",
          "output_type": "stream",
          "text": [
            "Creating sample database at: sample.db\n",
            "Added 5 employees to the database\n",
            "Added 4 departments to the database\n",
            "Sample database created successfully at: sample.db\n"
          ]
        }
      ],
      "source": [
        "import os\n",
        "\n",
        "# Function to create a sample database\n",
        "def create_sample_database(db_path=\"sample.db\"):\n",
        "    \"\"\"Create a sample SQLite database with employees and departments tables.\"\"\"\n",
        "    \n",
        "    # If database already exists, remove it to start fresh\n",
        "    if os.path.exists(db_path):\n",
        "        os.remove(db_path)\n",
        "    \n",
        "    print(f\"Creating sample database at: {db_path}\")\n",
        "    \n",
        "    # Create the database and add sample tables and data\n",
        "    conn = sqlite3.connect(db_path)\n",
        "    cursor = conn.cursor()\n",
        "    \n",
        "    # Create employees table\n",
        "    cursor.execute(\"\"\"\n",
        "    CREATE TABLE employees (\n",
        "        id INTEGER PRIMARY KEY,\n",
        "        name TEXT NOT NULL,\n",
        "        department TEXT,\n",
        "        salary REAL,\n",
        "        hire_date TEXT\n",
        "    )\n",
        "    \"\"\")\n",
        "    \n",
        "    # Insert sample employee data\n",
        "    employees = [\n",
        "        (1, 'John Doe', 'Engineering', 85000.00, '2020-01-15'),\n",
        "        (2, 'Jane Smith', 'Marketing', 75000.00, '2019-05-20'),\n",
        "        (3, 'Bob Johnson', 'Engineering', 95000.00, '2018-11-10'),\n",
        "        (4, 'Alice Brown', 'HR', 65000.00, '2021-03-05'),\n",
        "        (5, 'Charlie Davis', 'Engineering', 90000.00, '2020-08-12')\n",
        "    ]\n",
        "    cursor.executemany(\"INSERT INTO employees VALUES (?, ?, ?, ?, ?)\", employees)\n",
        "    \n",
        "    print(\"Added 5 employees to the database\")\n",
        "    \n",
        "    # Create departments table\n",
        "    cursor.execute(\"\"\"\n",
        "    CREATE TABLE departments (\n",
        "        id INTEGER PRIMARY KEY,\n",
        "        name TEXT NOT NULL,\n",
        "        budget REAL,\n",
        "        location TEXT\n",
        "    )\n",
        "    \"\"\")\n",
        "    \n",
        "    # Insert sample department data\n",
        "    departments = [\n",
        "        (1, 'Engineering', 1000000.00, 'Building A'),\n",
        "        (2, 'Marketing', 500000.00, 'Building B'),\n",
        "        (3, 'HR', 300000.00, 'Building A'),\n",
        "        (4, 'Finance', 600000.00, 'Building C')\n",
        "    ]\n",
        "    cursor.executemany(\"INSERT INTO departments VALUES (?, ?, ?, ?)\", departments)\n",
        "    \n",
        "    print(\"Added 4 departments to the database\")\n",
        "    \n",
        "    # Commit changes and close connection\n",
        "    conn.commit()\n",
        "    conn.close()\n",
        "    \n",
        "    print(f\"Sample database created successfully at: {db_path}\")\n",
        "    return db_path\n",
        "\n",
        "# Create our sample database\n",
        "db_path = create_sample_database()"
      ]
    },
    {
      "cell_type": "markdown",
      "metadata": {},
      "source": [
        "## Connecting CAMEL to Our SQL MCP Server\n",
        "\n",
        "Now let's set up a function to create a CAMEL agent that uses our SQL MCP server:"
      ]
    },
    {
      "cell_type": "code",
      "execution_count": null,
      "metadata": {},
      "outputs": [
        {
          "name": "stdout",
          "output_type": "stream",
          "text": [
            "Agent setup function defined. Ready for examples!\n"
          ]
        }
      ],
      "source": [
        "import sys\n",
        "from pathlib import Path\n",
        "\n",
        "from camel.agents import ChatAgent\n",
        "from camel.models import ModelFactory\n",
        "from camel.toolkits import MCPToolkit\n",
        "from camel.types import ModelPlatformType\n",
        "from camel.toolkits.mcp_toolkit import _MCPServer\n",
        "\n",
        "async def setup_sql_agent(db_path):\n",
        "    \"\"\"Set up a CAMEL agent with SQL MCP tools\"\"\"\n",
        "    \n",
        "    # Determine the path to the server file\n",
        "    server_script_path = Path.cwd() / \"sql_server_mcp.py\"\n",
        "    if not server_script_path.is_file():\n",
        "        print(f\"Error: Server script not found at {server_script_path}\")\n",
        "        return None\n",
        "    \n",
        "    print(f\"Using MCP server script at: {server_script_path}\")\n",
        "        \n",
        "    # Create an _MCPServer instance for our SQL server\n",
        "    server = _MCPServer(\n",
        "        command_or_url=sys.executable,\n",
        "        args=[str(server_script_path)]\n",
        "    )\n",
        "    \n",
        "    print(\"Created MCP server instance\")\n",
        "    \n",
        "    # Create the MCP toolkit with our server\n",
        "    mcp_toolkit = MCPToolkit(servers=[server])\n",
        "    \n",
        "    print(\"Created MCP toolkit\")\n",
        "    \n",
        "    # Connect to the toolkit and get the tools\n",
        "    async with mcp_toolkit.connection() as toolkit:\n",
        "        tools = toolkit.get_tools()\n",
        "        \n",
        "        print(\"Connected to MCP toolkit and retrieved tools\")\n",
        "        \n",
        "        # Create the system message for Claude\n",
        "        sys_msg = (\n",
        "            \"You are a helpful SQL assistant. Use the provided external tools for database operations. \"\n",
        "            \"Always use the tools to query the database rather than answering from your general knowledge. \"\n",
        "            f\"The sample database is at '{db_path}'. It contains tables for employees and departments. \"\n",
        "            \"When a user asks about the database, always use list_tables first to understand the schema, \"\n",
        "            \"then use describe_table to see column details before executing queries. \"\n",
        "            \"Always show your queries and explain your approach.\"\n",
        "        )\n",
        "        \n",
        "        # Set up the model (Claude)\n",
        "        model = ModelFactory.create(\n",
        "            model_platform=ModelPlatformType.ANTHROPIC,\n",
        "            model_type=\"claude-3-7-sonnet-20250219\",\n",
        "            api_key=os.getenv(\"ANTHROPIC_API_KEY\"),\n",
        "            model_config_dict={\"temperature\": 0.5, \"max_tokens\": 4096},\n",
        "        )\n",
        "        \n",
        "        print(\"Created Claude model instance\")\n",
        "        \n",
        "        # Create the CAMEL agent\n",
        "        camel_agent = ChatAgent(\n",
        "            system_message=sys_msg,\n",
        "            model=model,\n",
        "            tools=tools,\n",
        "        )\n",
        "        \n",
        "        print(\"Created CAMEL agent with SQL tools\")\n",
        "        \n",
        "        return camel_agent, toolkit\n",
        "\n",
        "# This doesn't run the agent yet, just defines the setup function\n",
        "print(\"Agent setup function defined. Ready for examples!\")"
      ]
    },
    {
      "cell_type": "markdown",
      "metadata": {},
      "source": [
        "## Creating a Complete Example Runner\n",
        "\n",
        "For convenience, let's create a script that sets up a complete interactive SQL MCP example:"
      ]
    },
    {
      "cell_type": "code",
      "execution_count": 15,
      "metadata": {},
      "outputs": [
        {
          "name": "stdout",
          "output_type": "stream",
          "text": [
            "Overwriting sql_example_run.py\n"
          ]
        }
      ],
      "source": [
        "%%writefile sql_example_run.py\n",
        "import asyncio\n",
        "import os\n",
        "import sys\n",
        "from pathlib import Path\n",
        "from dotenv import load_dotenv\n",
        "\n",
        "from camel.agents import ChatAgent\n",
        "from camel.models import ModelFactory\n",
        "from camel.toolkits import MCPToolkit\n",
        "from camel.types import ModelPlatformType\n",
        "from camel.toolkits.mcp_toolkit import _MCPServer\n",
        "\n",
        "# Load environment variables from .env file\n",
        "load_dotenv()\n",
        "\n",
        "# Set your Anthropic API key (ensure this is valid in your .env file)\n",
        "os.environ[\"ANTHROPIC_API_KEY\"] = os.getenv(\"ANTHROPIC_API_KEY\")\n",
        "\n",
        "# Create a sample database for demonstration\n",
        "async def create_sample_database():\n",
        "    \"\"\"Create a sample SQLite database with some data for demonstration.\"\"\"\n",
        "    import sqlite3\n",
        "    \n",
        "    # Create a temporary database in the current directory\n",
        "    db_path = \"sample.db\"\n",
        "    \n",
        "    # If database already exists, remove it to start fresh\n",
        "    if os.path.exists(db_path):\n",
        "        os.remove(db_path)\n",
        "    \n",
        "    # Create the database and add sample tables and data\n",
        "    conn = sqlite3.connect(db_path)\n",
        "    cursor = conn.cursor()\n",
        "    \n",
        "    # Create employees table\n",
        "    cursor.execute(\"\"\"\n",
        "    CREATE TABLE employees (\n",
        "        id INTEGER PRIMARY KEY,\n",
        "        name TEXT NOT NULL,\n",
        "        department TEXT,\n",
        "        salary REAL,\n",
        "        hire_date TEXT\n",
        "    )\n",
        "    \"\"\")\n",
        "    \n",
        "    # Insert sample employee data\n",
        "    employees = [\n",
        "        (1, 'John Doe', 'Engineering', 85000.00, '2020-01-15'),\n",
        "        (2, 'Jane Smith', 'Marketing', 75000.00, '2019-05-20'),\n",
        "        (3, 'Bob Johnson', 'Engineering', 95000.00, '2018-11-10'),\n",
        "        (4, 'Alice Brown', 'HR', 65000.00, '2021-03-05'),\n",
        "        (5, 'Charlie Davis', 'Engineering', 90000.00, '2020-08-12')\n",
        "    ]\n",
        "    cursor.executemany(\"INSERT INTO employees VALUES (?, ?, ?, ?, ?)\", employees)\n",
        "    \n",
        "    # Create departments table\n",
        "    cursor.execute(\"\"\"\n",
        "    CREATE TABLE departments (\n",
        "        id INTEGER PRIMARY KEY,\n",
        "        name TEXT NOT NULL,\n",
        "        budget REAL,\n",
        "        location TEXT\n",
        "    )\n",
        "    \"\"\")\n",
        "    \n",
        "    # Insert sample department data\n",
        "    departments = [\n",
        "        (1, 'Engineering', 1000000.00, 'Building A'),\n",
        "        (2, 'Marketing', 500000.00, 'Building B'),\n",
        "        (3, 'HR', 300000.00, 'Building A'),\n",
        "        (4, 'Finance', 600000.00, 'Building C')\n",
        "    ]\n",
        "    cursor.executemany(\"INSERT INTO departments VALUES (?, ?, ?, ?)\", departments)\n",
        "    \n",
        "    # Commit changes and close connection\n",
        "    conn.commit()\n",
        "    conn.close()\n",
        "    \n",
        "    print(f\"Sample database created at: {db_path}\")\n",
        "    return db_path\n",
        "\n",
        "# Interactive mode function to chat with the agent\n",
        "async def interactive_input_loop(agent: ChatAgent, db_path: str):\n",
        "    loop = asyncio.get_event_loop()\n",
        "    print(\"\\n==== SQL Assistant Interactive Mode ====\")\n",
        "    print(\"Type 'exit' at any prompt to quit.\")\n",
        "    print(f\"\\nUsing sample database at: {db_path}\")\n",
        "    print(\"\\nSample queries you can try:\")\n",
        "    print(\"- Show me all tables in sample.db\")\n",
        "    print(\"- What columns are in the employees table in sample.db?\")\n",
        "    print(\"- List all employees in the Engineering department\")\n",
        "    print(\"- What is the average salary by department?\")\n",
        "    print(\"- How many employees are in each department?\")\n",
        "    print(\"- Find the employee with the highest salary\")\n",
        "    print(\"- Add a new employee named Michael Wilson to Finance with salary 82000\")\n",
        "    print(\"======================================\")\n",
        "\n",
        "    while True:\n",
        "        query = await loop.run_in_executor(\n",
        "            None, \n",
        "            input, \n",
        "            \"\\nEnter your query (or type 'exit' to quit): \"\n",
        "        )\n",
        "        \n",
        "        if query.lower() == 'exit':\n",
        "            print(\"Exiting interactive mode.\")\n",
        "            break\n",
        "        \n",
        "        print(\"\\nProcessing query...\")\n",
        "        response = await agent.astep(query)\n",
        "        \n",
        "        print(\"\\nAgent Response:\")\n",
        "        if response.msgs and response.msgs[0].content:\n",
        "            print(response.msgs[0].content.rstrip())\n",
        "        else:\n",
        "            print(\"No output received.\")\n",
        "\n",
        "# Main function to run the entire example\n",
        "async def main(server_transport: str = 'stdio'):\n",
        "    # First create a sample database\n",
        "    db_path = await create_sample_database()\n",
        "    \n",
        "    if server_transport == 'stdio':\n",
        "        # Determine the path to the server file\n",
        "        server_script_path = Path(__file__).resolve().parent / \"sql_server_mcp.py\"\n",
        "        if not server_script_path.is_file():\n",
        "            print(f\"Error: Server script not found at {server_script_path}\")\n",
        "            return\n",
        "            \n",
        "        # Create an _MCPServer instance for our SQL server\n",
        "        server = _MCPServer(\n",
        "            command_or_url=sys.executable,\n",
        "            args=[str(server_script_path)]\n",
        "        )\n",
        "        mcp_toolkit = MCPToolkit(servers=[server])\n",
        "    else:\n",
        "        mcp_toolkit = MCPToolkit(\"tcp://localhost:5000\")\n",
        "\n",
        "    async with mcp_toolkit.connection() as toolkit:\n",
        "        tools = toolkit.get_tools()\n",
        "        sys_msg = (\n",
        "            \"You are a helpful SQL assistant. Use the provided external tools for database operations. \"\n",
        "            \"Always use the tools to query the database rather than answering from your general knowledge. \"\n",
        "            f\"The sample database is at '{db_path}'. It contains tables for employees and departments. \"\n",
        "            \"When a user asks a question about the database, ALWAYS explicitly include the database path \"\n",
        "            f\"'{db_path}' in your tool calls. First list the tables to understand the schema, \"\n",
        "            \"then use describe_table to see column details before querying.\"\n",
        "        )\n",
        "        model = ModelFactory.create(\n",
        "            model_platform=ModelPlatformType.ANTHROPIC,\n",
        "            model_type=\"claude-3-7-sonnet-20250219\",\n",
        "            api_key=os.getenv(\"ANTHROPIC_API_KEY\"),\n",
        "            model_config_dict={\"temperature\": 0.5, \"max_tokens\": 4096},\n",
        "        )\n",
        "        camel_agent = ChatAgent(\n",
        "            system_message=sys_msg,\n",
        "            model=model,\n",
        "            tools=tools,\n",
        "        )\n",
        "        camel_agent.reset()\n",
        "        camel_agent.memory.clear()\n",
        "        await interactive_input_loop(camel_agent, db_path)\n",
        "        \n",
        "        # Clean up the sample database after we're done\n",
        "        if os.path.exists(db_path):\n",
        "            os.remove(db_path)\n",
        "            print(f\"\\nRemoved sample database: {db_path}\")\n",
        "\n",
        "# Entry point \n",
        "if __name__ == \"__main__\":\n",
        "    asyncio.run(main())"
      ]
    },
    {
      "cell_type": "markdown",
      "metadata": {},
      "source": [
        "# Output - \n",
        "\n",
        "Entering interactive mode. Type 'exit' at any prompt to quit.\n",
        "\n",
        "Using sample database at: sample.db\n",
        "\n",
        "You can try commands like:\n",
        "- Show me all tables in the database\n",
        "- List all employees\n",
        "- What is the average salary by department?\n",
        "- How many employees are in the Engineering department?\n",
        "- Find the employee with the highest salary\n",
        "\n",
        "Enter your query (or type 'exit' to quit): Show me all the tables in the database\n",
        "\n",
        "Agent Response:\n",
        "I'll help you list all the tables in the database. However, I need to know which database you want to examine. Could you please provide the connection string or path to the SQLite database?\n",
        "\n",
        "Enter your query (or type 'exit' to quit): list all employees in sample.db\n",
        "\n",
        "Agent Response:\n",
        "Here are all the employees from the sample.db database:\n",
        "\n",
        "| ID | Name | Department | Salary | Hire Date |\n",
        "|----|------|------------|--------|-----------|\n",
        "| 1 | John Doe | Engineering | $85,000 | 2020-01-15 |\n",
        "| 2 | Jane Smith | Marketing | $75,000 | 2019-05-20 |\n",
        "| 3 | Bob Johnson | Engineering | $95,000 | 2018-11-10 |\n",
        "| 4 | Alice Brown | HR | $65,000 | 2021-03-05 |\n",
        "| 5 | Charlie Davis | Engineering | $90,000 | 2020-08-12 |\n",
        "\n",
        "The database contains 5 employees across 3 departments (Engineering, Marketing, and HR).\n",
        "\n",
        "Enter your query (or type 'exit' to quit): find the employee with the lowest salary \n",
        "\n",
        "Agent Response:\n",
        "The employee with the lowest salary is:\n",
        "\n",
        "| ID | Name | Department | Salary | Hire Date |\n",
        "|----|------|------------|--------|-----------|\n",
        "| 4 | Alice Brown | HR | $65,000 | 2021-03-05 |\n",
        "\n",
        "Alice Brown from the HR department has the lowest salary at $65,000."
      ]
    },
    {
      "cell_type": "markdown",
      "metadata": {},
      "source": [
        "# Conclusion"
      ]
    },
    {
      "cell_type": "markdown",
      "metadata": {},
      "source": [
        "To run it locally you can save your `sql_server_mcp.py` in the same directory of `sql_example_run.py` and then run the whole setup with :\n",
        "\n",
        "`python sql_example_run.py`"
      ]
    },
    {
      "cell_type": "markdown",
      "metadata": {
        "id": "SmkXhy4JR726"
      },
      "source": [
        "This notebook has guided you through ***setting up and running a SQL MCP (Model Control Protocol) server with CAMEL AI*** to enable natural language interaction with SQL databases. \n",
        "\n",
        "The implementation allows *Claude* to understand and execute database operations through conversational prompts.\n",
        "\n",
        "**Key tools** utilized in this notebook include:\n",
        "\n",
        "- **CAMEL:** A powerful multi-agent framework that enables Retrieval-Augmented Generation and multi-agent role-playing scenarios, allowing for sophisticated AI-driven tasks.\n",
        "- **MCP Server:** A protocol that enables language models to use external tools by defining standardized interfaces for tool execution.\n",
        "- **SQLite:** A lightweight, file-based relational database used for demonstrating SQL operations in our examples.\n",
        "- **Claude:** Anthropic's large language model that interprets natural language queries and translates them into appropriate database operations.\n",
        "- **Python's asyncio:** Used for handling asynchronous operations between CAMEL, the MCP server, and database connections.\n",
        "\n",
        "This comprehensive setup allows you to *adapt and expand the example for various scenarios involving database operations through natural language*. You could extend it to support other database systems, add more complex SQL operations, or integrate it with existing data workflows in your organization."
      ]
    },
    {
      "cell_type": "markdown",
      "metadata": {
        "id": "s6Det-fcMb9A"
      },
      "source": [
        "That's everything: Got questions about 🐫 CAMEL-AI? Join us on [Discord](https://discord.camel-ai.org)! Whether you want to share feedback, explore the latest in multi-agent systems, get support, or connect with others on exciting projects, we’d love to have you in the community! 🤝\n",
        "\n",
        "Check out some of our other work:\n",
        "\n",
        "1. 🐫 Creating Your First CAMEL Agent [free Colab](https://docs.camel-ai.org/cookbooks/create_your_first_agent.html)\n",
        "\n",
        "2.  Graph RAG Cookbook [free Colab](https://colab.research.google.com/drive/1uZKQSuu0qW6ukkuSv9TukLB9bVaS1H0U?usp=sharing)\n",
        "\n",
        "3. 🧑‍⚖️ Create A Hackathon Judge Committee with Workforce [free Colab](https://colab.research.google.com/drive/18ajYUMfwDx3WyrjHow3EvUMpKQDcrLtr?usp=sharing)\n",
        "\n",
        "4. 🔥 3 ways to ingest data from websites with Firecrawl & CAMEL [free Colab](https://colab.research.google.com/drive/1lOmM3VmgR1hLwDKdeLGFve_75RFW0R9I?usp=sharing)\n",
        "\n",
        "5. 🦥 Agentic SFT Data Generation with CAMEL and Mistral Models, Fine-Tuned with Unsloth [free Colab](https://colab.research.google.com/drive/1lYgArBw7ARVPSpdwgKLYnp_NEXiNDOd-?usp=sharingg)\n",
        "\n",
        "Thanks from everyone at 🐫 CAMEL-AI\n",
        "\n",
        "\n",
        "<div class=\"align-center\">\n",
        "  <a href=\"https://www.camel-ai.org/\"><img src=\"https://i.postimg.cc/KzQ5rfBC/button.png\"width=\"150\"></a>\n",
        "  <a href=\"https://discord.camel-ai.org\"><img src=\"https://i.postimg.cc/L4wPdG9N/join-2.png\"  width=\"150\"></a></a>\n",
        "  \n",
        "⭐ <i>Star us on [*Github*](https://github.com/camel-ai/camel), join our [*Discord*](https://discord.camel-ai.org) or follow our [*X*](https://x.com/camelaiorg)\n",
        "</div>\n"
      ]
    }
  ],
  "metadata": {
    "colab": {
      "provenance": []
    },
    "kernelspec": {
      "display_name": "kratos",
      "language": "python",
      "name": "python3"
    },
    "language_info": {
      "codemirror_mode": {
        "name": "ipython",
        "version": 3
      },
      "file_extension": ".py",
      "mimetype": "text/x-python",
      "name": "python",
      "nbconvert_exporter": "python",
      "pygments_lexer": "ipython3",
      "version": "3.10.16"
    }
  },
  "nbformat": 4,
  "nbformat_minor": 0
}
